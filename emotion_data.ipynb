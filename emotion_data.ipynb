{
 "cells": [
  {
   "cell_type": "code",
   "execution_count": 1,
   "metadata": {},
   "outputs": [],
   "source": [
    "import pandas as pd\n",
    "from random import randint\n",
    "import re\n",
    "\n",
    "import utils"
   ]
  },
  {
   "cell_type": "markdown",
   "metadata": {},
   "source": [
    "# Emotion Data Prep"
   ]
  },
  {
   "cell_type": "code",
   "execution_count": 3,
   "metadata": {},
   "outputs": [
    {
     "name": "stdout",
     "output_type": "stream",
     "text": [
      "<class 'pandas.core.frame.DataFrame'>\n",
      "RangeIndex: 15999 entries, 0 to 15998\n",
      "Data columns (total 2 columns):\n",
      " #   Column   Non-Null Count  Dtype \n",
      "---  ------   --------------  ----- \n",
      " 0   text     15999 non-null  object\n",
      " 1   emotion  15999 non-null  object\n",
      "dtypes: object(2)\n",
      "memory usage: 250.1+ KB\n"
     ]
    }
   ],
   "source": [
    "edf = pd.read_csv('data/emotions/train.txt', sep=';', header=0, names=['text', 'emotion'])\n",
    "edf.info()"
   ]
  },
  {
   "cell_type": "markdown",
   "metadata": {},
   "source": [
    "## Optional: Deal with spellings like \"don t\""
   ]
  },
  {
   "cell_type": "code",
   "execution_count": 9,
   "metadata": {},
   "outputs": [],
   "source": [
    "# Here if we want to use it. Leaving it off for now.\n",
    "def remove_contracted_terms(raw_text: str) -> str:\n",
    "    sep_patterns = [\n",
    "        r\"[\\s][^\\s]+n[\\s]+t[\\s]\",\n",
    "        r\"[\\s][Ii][\\s]+m[\\s]\",\n",
    "        r\"you[\\s]+re[\\s]\",\n",
    "        r\"they[\\s]+re[\\s]\",\n",
    "        r\"she[\\s]+s[\\s]\",\n",
    "        r\"[\\s]he[\\s]+s[\\s]\",\n",
    "        r\"[\\s][^\\s]+[\\s]+d[\\s]\",\n",
    "        r\"[\\s][^\\s]+[\\s]+ve[\\s]\"\n",
    "    ]\n",
    "    combo_pattern = re.compile('|'.join(sep_patterns))\n",
    "    return re.sub(combo_pattern, ' ', raw_text)\n"
   ]
  },
  {
   "cell_type": "code",
   "execution_count": 10,
   "metadata": {},
   "outputs": [
    {
     "data": {
      "text/html": [
       "<div>\n",
       "<style scoped>\n",
       "    .dataframe tbody tr th:only-of-type {\n",
       "        vertical-align: middle;\n",
       "    }\n",
       "\n",
       "    .dataframe tbody tr th {\n",
       "        vertical-align: top;\n",
       "    }\n",
       "\n",
       "    .dataframe thead th {\n",
       "        text-align: right;\n",
       "    }\n",
       "</style>\n",
       "<table border=\"1\" class=\"dataframe\">\n",
       "  <thead>\n",
       "    <tr style=\"text-align: right;\">\n",
       "      <th></th>\n",
       "      <th>text</th>\n",
       "      <th>emotion</th>\n",
       "      <th>contractions_removed</th>\n",
       "    </tr>\n",
       "  </thead>\n",
       "  <tbody>\n",
       "    <tr>\n",
       "      <th>7680</th>\n",
       "      <td>i dont recall just now yet vividly recall look...</td>\n",
       "      <td>love</td>\n",
       "      <td>i dont recall just now yet vividly recall look...</td>\n",
       "    </tr>\n",
       "    <tr>\n",
       "      <th>5747</th>\n",
       "      <td>i feel so embarrassed of myself for even havin...</td>\n",
       "      <td>sadness</td>\n",
       "      <td>i feel so embarrassed of myself for even havin...</td>\n",
       "    </tr>\n",
       "    <tr>\n",
       "      <th>4466</th>\n",
       "      <td>i would feel so excited waiting for the mailma...</td>\n",
       "      <td>joy</td>\n",
       "      <td>i would feel so excited waiting for the mailma...</td>\n",
       "    </tr>\n",
       "    <tr>\n",
       "      <th>14576</th>\n",
       "      <td>i growled at her i began to feel extremely ann...</td>\n",
       "      <td>anger</td>\n",
       "      <td>i growled at her i began to feel extremely ann...</td>\n",
       "    </tr>\n",
       "    <tr>\n",
       "      <th>4460</th>\n",
       "      <td>i am right now i feel amused the sounds i hear...</td>\n",
       "      <td>joy</td>\n",
       "      <td>i am right now i feel amused the sounds i hear...</td>\n",
       "    </tr>\n",
       "  </tbody>\n",
       "</table>\n",
       "</div>"
      ],
      "text/plain": [
       "                                                    text  emotion  \\\n",
       "7680   i dont recall just now yet vividly recall look...     love   \n",
       "5747   i feel so embarrassed of myself for even havin...  sadness   \n",
       "4466   i would feel so excited waiting for the mailma...      joy   \n",
       "14576  i growled at her i began to feel extremely ann...    anger   \n",
       "4460   i am right now i feel amused the sounds i hear...      joy   \n",
       "\n",
       "                                    contractions_removed  \n",
       "7680   i dont recall just now yet vividly recall look...  \n",
       "5747   i feel so embarrassed of myself for even havin...  \n",
       "4466   i would feel so excited waiting for the mailma...  \n",
       "14576  i growled at her i began to feel extremely ann...  \n",
       "4460   i am right now i feel amused the sounds i hear...  "
      ]
     },
     "execution_count": 10,
     "metadata": {},
     "output_type": "execute_result"
    }
   ],
   "source": [
    "edf['contractions_removed'] = edf['text'].apply(remove_contracted_terms)\n",
    "edf.sample(n=5)"
   ]
  },
  {
   "cell_type": "code",
   "execution_count": 14,
   "metadata": {},
   "outputs": [
    {
     "data": {
      "text/html": [
       "<div>\n",
       "<style scoped>\n",
       "    .dataframe tbody tr th:only-of-type {\n",
       "        vertical-align: middle;\n",
       "    }\n",
       "\n",
       "    .dataframe tbody tr th {\n",
       "        vertical-align: top;\n",
       "    }\n",
       "\n",
       "    .dataframe thead th {\n",
       "        text-align: right;\n",
       "    }\n",
       "</style>\n",
       "<table border=\"1\" class=\"dataframe\">\n",
       "  <thead>\n",
       "    <tr style=\"text-align: right;\">\n",
       "      <th></th>\n",
       "      <th>text</th>\n",
       "      <th>emotion</th>\n",
       "      <th>contractions_removed</th>\n",
       "    </tr>\n",
       "  </thead>\n",
       "  <tbody>\n",
       "    <tr>\n",
       "      <th>4198</th>\n",
       "      <td>i feel that learning more about animals and th...</td>\n",
       "      <td>joy</td>\n",
       "      <td>i feel that learning more about animals and th...</td>\n",
       "    </tr>\n",
       "    <tr>\n",
       "      <th>9552</th>\n",
       "      <td>i am feeling a bit apprehensive about carrying...</td>\n",
       "      <td>fear</td>\n",
       "      <td>i am feeling a bit apprehensive about carrying...</td>\n",
       "    </tr>\n",
       "    <tr>\n",
       "      <th>7054</th>\n",
       "      <td>im feeling very bitter against knight in shini...</td>\n",
       "      <td>anger</td>\n",
       "      <td>im feeling very bitter against knight in shini...</td>\n",
       "    </tr>\n",
       "    <tr>\n",
       "      <th>10405</th>\n",
       "      <td>i don t always remember to do this but when i ...</td>\n",
       "      <td>anger</td>\n",
       "      <td>i always remember to do this but when feeling ...</td>\n",
       "    </tr>\n",
       "    <tr>\n",
       "      <th>6786</th>\n",
       "      <td>i feel shes friendly and nice</td>\n",
       "      <td>joy</td>\n",
       "      <td>i feel shes friendly and nice</td>\n",
       "    </tr>\n",
       "  </tbody>\n",
       "</table>\n",
       "</div>"
      ],
      "text/plain": [
       "                                                    text emotion  \\\n",
       "4198   i feel that learning more about animals and th...     joy   \n",
       "9552   i am feeling a bit apprehensive about carrying...    fear   \n",
       "7054   im feeling very bitter against knight in shini...   anger   \n",
       "10405  i don t always remember to do this but when i ...   anger   \n",
       "6786                       i feel shes friendly and nice     joy   \n",
       "\n",
       "                                    contractions_removed  \n",
       "4198   i feel that learning more about animals and th...  \n",
       "9552   i am feeling a bit apprehensive about carrying...  \n",
       "7054   im feeling very bitter against knight in shini...  \n",
       "10405  i always remember to do this but when feeling ...  \n",
       "6786                       i feel shes friendly and nice  "
      ]
     },
     "execution_count": 14,
     "metadata": {},
     "output_type": "execute_result"
    }
   ],
   "source": [
    "edf.sample(n=5)"
   ]
  },
  {
   "cell_type": "code",
   "execution_count": 15,
   "metadata": {},
   "outputs": [
    {
     "name": "stdout",
     "output_type": "stream",
     "text": [
      "<class 'pandas.core.frame.DataFrame'>\n",
      "RangeIndex: 15999 entries, 0 to 15998\n",
      "Data columns (total 2 columns):\n",
      " #   Column   Non-Null Count  Dtype \n",
      "---  ------   --------------  ----- \n",
      " 0   text     15999 non-null  object\n",
      " 1   emotion  15999 non-null  object\n",
      "dtypes: object(2)\n",
      "memory usage: 250.1+ KB\n"
     ]
    }
   ],
   "source": [
    "edf.drop(columns=['contractions_removed'], inplace=True)\n",
    "edf.info()"
   ]
  },
  {
   "cell_type": "markdown",
   "metadata": {},
   "source": [
    "## Binary Label: Negative Emotion (\"Stress\") as 1"
   ]
  },
  {
   "cell_type": "code",
   "execution_count": 3,
   "metadata": {},
   "outputs": [
    {
     "data": {
      "text/plain": [
       "emotion\n",
       "joy         5362\n",
       "sadness     4665\n",
       "anger       2159\n",
       "fear        1937\n",
       "love        1304\n",
       "surprise     572\n",
       "Name: count, dtype: int64"
      ]
     },
     "execution_count": 3,
     "metadata": {},
     "output_type": "execute_result"
    }
   ],
   "source": [
    "edf['emotion'].value_counts()"
   ]
  },
  {
   "cell_type": "markdown",
   "metadata": {},
   "source": [
    "Just going to roughly group \"sadness\", \"anger\", and \"fear\" into \"stressed\""
   ]
  },
  {
   "cell_type": "code",
   "execution_count": 4,
   "metadata": {},
   "outputs": [
    {
     "data": {
      "text/html": [
       "<div>\n",
       "<style scoped>\n",
       "    .dataframe tbody tr th:only-of-type {\n",
       "        vertical-align: middle;\n",
       "    }\n",
       "\n",
       "    .dataframe tbody tr th {\n",
       "        vertical-align: top;\n",
       "    }\n",
       "\n",
       "    .dataframe thead th {\n",
       "        text-align: right;\n",
       "    }\n",
       "</style>\n",
       "<table border=\"1\" class=\"dataframe\">\n",
       "  <thead>\n",
       "    <tr style=\"text-align: right;\">\n",
       "      <th></th>\n",
       "      <th>text</th>\n",
       "      <th>emotion</th>\n",
       "      <th>label</th>\n",
       "    </tr>\n",
       "  </thead>\n",
       "  <tbody>\n",
       "    <tr>\n",
       "      <th>12897</th>\n",
       "      <td>i dont have a god to turn to doesnt mean i don...</td>\n",
       "      <td>anger</td>\n",
       "      <td>1</td>\n",
       "    </tr>\n",
       "    <tr>\n",
       "      <th>6288</th>\n",
       "      <td>i wasnt feeling when i got on board but its re...</td>\n",
       "      <td>joy</td>\n",
       "      <td>0</td>\n",
       "    </tr>\n",
       "    <tr>\n",
       "      <th>2660</th>\n",
       "      <td>im totally walking on sunshine feeling lighter...</td>\n",
       "      <td>sadness</td>\n",
       "      <td>1</td>\n",
       "    </tr>\n",
       "  </tbody>\n",
       "</table>\n",
       "</div>"
      ],
      "text/plain": [
       "                                                    text  emotion  label\n",
       "12897  i dont have a god to turn to doesnt mean i don...    anger      1\n",
       "6288   i wasnt feeling when i got on board but its re...      joy      0\n",
       "2660   im totally walking on sunshine feeling lighter...  sadness      1"
      ]
     },
     "execution_count": 4,
     "metadata": {},
     "output_type": "execute_result"
    }
   ],
   "source": [
    "possible_stress = {'sadness', 'anger', 'fear'}\n",
    "edf['label'] = edf['emotion'].apply(lambda emotion: 1 if emotion.strip() in possible_stress else 0)\n",
    "edf.sample(n=3)"
   ]
  },
  {
   "cell_type": "markdown",
   "metadata": {},
   "source": [
    "## Text Processing"
   ]
  },
  {
   "cell_type": "code",
   "execution_count": 5,
   "metadata": {},
   "outputs": [],
   "source": [
    "import nltk\n",
    "from nltk.corpus import stopwords\n",
    "from nltk.stem import WordNetLemmatizer\n",
    "from nltk.tokenize import word_tokenize\n",
    "from urllib.parse import urlparse"
   ]
  },
  {
   "cell_type": "code",
   "execution_count": 6,
   "metadata": {},
   "outputs": [],
   "source": [
    "lemmatizer = WordNetLemmatizer()\n",
    "stop_words = list(stopwords.words('english'))"
   ]
  },
  {
   "cell_type": "code",
   "execution_count": 7,
   "metadata": {},
   "outputs": [
    {
     "name": "stdout",
     "output_type": "stream",
     "text": [
      "179\n",
      "205\n"
     ]
    }
   ],
   "source": [
    "print(len(stop_words))\n",
    "utils.add_stopwords_missing_apostrophe(stop_words)\n",
    "print(len(stop_words))"
   ]
  },
  {
   "cell_type": "code",
   "execution_count": 8,
   "metadata": {},
   "outputs": [
    {
     "data": {
      "text/html": [
       "<div>\n",
       "<style scoped>\n",
       "    .dataframe tbody tr th:only-of-type {\n",
       "        vertical-align: middle;\n",
       "    }\n",
       "\n",
       "    .dataframe tbody tr th {\n",
       "        vertical-align: top;\n",
       "    }\n",
       "\n",
       "    .dataframe thead th {\n",
       "        text-align: right;\n",
       "    }\n",
       "</style>\n",
       "<table border=\"1\" class=\"dataframe\">\n",
       "  <thead>\n",
       "    <tr style=\"text-align: right;\">\n",
       "      <th></th>\n",
       "      <th>text</th>\n",
       "      <th>emotion</th>\n",
       "      <th>label</th>\n",
       "      <th>processed_text</th>\n",
       "    </tr>\n",
       "  </thead>\n",
       "  <tbody>\n",
       "    <tr>\n",
       "      <th>13569</th>\n",
       "      <td>ill feel even more pressured</td>\n",
       "      <td>fear</td>\n",
       "      <td>1</td>\n",
       "      <td>ill feel even pressured</td>\n",
       "    </tr>\n",
       "    <tr>\n",
       "      <th>7671</th>\n",
       "      <td>i look at his sweet little face crying for his...</td>\n",
       "      <td>sadness</td>\n",
       "      <td>1</td>\n",
       "      <td>look sweet little face cry mama wanting hold l...</td>\n",
       "    </tr>\n",
       "    <tr>\n",
       "      <th>12940</th>\n",
       "      <td>i was in the firm i feel passionate about what...</td>\n",
       "      <td>love</td>\n",
       "      <td>0</td>\n",
       "      <td>firm feel passionate challenge mind intellect ...</td>\n",
       "    </tr>\n",
       "    <tr>\n",
       "      <th>2815</th>\n",
       "      <td>i look forward to when i am feeling better and...</td>\n",
       "      <td>joy</td>\n",
       "      <td>0</td>\n",
       "      <td>look forward feeling better write often</td>\n",
       "    </tr>\n",
       "    <tr>\n",
       "      <th>11223</th>\n",
       "      <td>i feel so virtuous</td>\n",
       "      <td>joy</td>\n",
       "      <td>0</td>\n",
       "      <td>feel virtuous</td>\n",
       "    </tr>\n",
       "  </tbody>\n",
       "</table>\n",
       "</div>"
      ],
      "text/plain": [
       "                                                    text  emotion  label  \\\n",
       "13569                       ill feel even more pressured     fear      1   \n",
       "7671   i look at his sweet little face crying for his...  sadness      1   \n",
       "12940  i was in the firm i feel passionate about what...     love      0   \n",
       "2815   i look forward to when i am feeling better and...      joy      0   \n",
       "11223                                 i feel so virtuous      joy      0   \n",
       "\n",
       "                                          processed_text  \n",
       "13569                            ill feel even pressured  \n",
       "7671   look sweet little face cry mama wanting hold l...  \n",
       "12940  firm feel passionate challenge mind intellect ...  \n",
       "2815             look forward feeling better write often  \n",
       "11223                                      feel virtuous  "
      ]
     },
     "execution_count": 8,
     "metadata": {},
     "output_type": "execute_result"
    }
   ],
   "source": [
    "edf['processed_text'] = edf['text'].apply(lambda raw_text: utils.process_text(\n",
    "    text_chunk=raw_text, stopwords=stop_words, lemmatizer_obj=lemmatizer\n",
    "))\n",
    "edf.sample(n=5)"
   ]
  },
  {
   "cell_type": "markdown",
   "metadata": {},
   "source": [
    "## Vectorize (Word Embedding)"
   ]
  },
  {
   "cell_type": "code",
   "execution_count": 9,
   "metadata": {},
   "outputs": [],
   "source": [
    "from sklearn.feature_extraction.text import TfidfVectorizer"
   ]
  },
  {
   "cell_type": "markdown",
   "metadata": {},
   "source": [
    "### Experiment with Max and Min Document Frequencies for a Reasonable Vocabulary Size"
   ]
  },
  {
   "cell_type": "code",
   "execution_count": 24,
   "metadata": {},
   "outputs": [],
   "source": [
    "doc_freq_maxes = [0.9, 0.8, 0.7, 0.6, 0.5]"
   ]
  },
  {
   "cell_type": "code",
   "execution_count": 27,
   "metadata": {},
   "outputs": [
    {
     "name": "stdout",
     "output_type": "stream",
     "text": [
      "Max doc freq: 0.9\n",
      "Terms: 13435\n",
      "\n",
      "Max doc freq: 0.8\n",
      "Terms: 13435\n",
      "\n",
      "Max doc freq: 0.7\n",
      "Terms: 13435\n",
      "\n",
      "Max doc freq: 0.6\n",
      "Terms: 13434\n",
      "\n",
      "Max doc freq: 0.5\n",
      "Terms: 13434\n",
      "\n"
     ]
    }
   ],
   "source": [
    "for ceiling in doc_freq_maxes:\n",
    "    tfidf = TfidfVectorizer(max_df=ceiling)\n",
    "    tf_df = tfidf.fit_transform(edf['processed_text'])\n",
    "    tf_df.toarray()\n",
    "    print(f'Max doc freq: {ceiling}\\nTerms: {tf_df.shape[1]}\\n')"
   ]
  },
  {
   "cell_type": "code",
   "execution_count": 32,
   "metadata": {},
   "outputs": [],
   "source": [
    "doc_freq_mins = [0.1, 0.01, 0.001, 0.0001, 0.00001, 0.]"
   ]
  },
  {
   "cell_type": "code",
   "execution_count": 33,
   "metadata": {},
   "outputs": [
    {
     "name": "stdout",
     "output_type": "stream",
     "text": [
      "Min doc freq: 0.1\n",
      "Terms: 4\n",
      "\n",
      "Min doc freq: 0.01\n",
      "Terms: 101\n",
      "\n",
      "Min doc freq: 0.001\n",
      "Terms: 1363\n",
      "\n",
      "Min doc freq: 0.0001\n",
      "Terms: 6496\n",
      "\n",
      "Min doc freq: 1e-05\n",
      "Terms: 13435\n",
      "\n",
      "Min doc freq: 0.0\n",
      "Terms: 13435\n",
      "\n"
     ]
    }
   ],
   "source": [
    "for floor in doc_freq_mins:\n",
    "    tfidf = TfidfVectorizer(min_df=floor)\n",
    "    tf_df = tfidf.fit_transform(edf['processed_text'])\n",
    "    tf_df.toarray()\n",
    "    print(f'Min doc freq: {floor}\\nTerms: {tf_df.shape[1]}\\n')"
   ]
  },
  {
   "cell_type": "markdown",
   "metadata": {},
   "source": [
    "### Actual Embedding"
   ]
  },
  {
   "cell_type": "code",
   "execution_count": 10,
   "metadata": {},
   "outputs": [],
   "source": [
    "# Try max_df = 0.6 and min_df = 0.0001\n",
    "MAX_DF = 0.6\n",
    "MIN_DF = 0.0001"
   ]
  },
  {
   "cell_type": "code",
   "execution_count": 11,
   "metadata": {},
   "outputs": [
    {
     "data": {
      "text/plain": [
       "(15999, 6495)"
      ]
     },
     "execution_count": 11,
     "metadata": {},
     "output_type": "execute_result"
    }
   ],
   "source": [
    "tfidf = TfidfVectorizer(min_df=MIN_DF, max_df=MAX_DF)\n",
    "tf_df = tfidf.fit_transform(edf['processed_text'])\n",
    "tf_df.toarray()\n",
    "tf_df.shape"
   ]
  },
  {
   "cell_type": "code",
   "execution_count": 12,
   "metadata": {},
   "outputs": [
    {
     "data": {
      "text/html": [
       "<div>\n",
       "<style scoped>\n",
       "    .dataframe tbody tr th:only-of-type {\n",
       "        vertical-align: middle;\n",
       "    }\n",
       "\n",
       "    .dataframe tbody tr th {\n",
       "        vertical-align: top;\n",
       "    }\n",
       "\n",
       "    .dataframe thead th {\n",
       "        text-align: right;\n",
       "    }\n",
       "</style>\n",
       "<table border=\"1\" class=\"dataframe\">\n",
       "  <thead>\n",
       "    <tr style=\"text-align: right;\">\n",
       "      <th></th>\n",
       "      <th>aa</th>\n",
       "      <th>abandon</th>\n",
       "      <th>abandoned</th>\n",
       "      <th>abandoning</th>\n",
       "      <th>abandonment</th>\n",
       "      <th>abc</th>\n",
       "      <th>abdomen</th>\n",
       "      <th>abide</th>\n",
       "      <th>ability</th>\n",
       "      <th>abit</th>\n",
       "      <th>...</th>\n",
       "      <th>zach</th>\n",
       "      <th>zealand</th>\n",
       "      <th>zen</th>\n",
       "      <th>zero</th>\n",
       "      <th>zest</th>\n",
       "      <th>zombie</th>\n",
       "      <th>zone</th>\n",
       "      <th>zoom</th>\n",
       "      <th>zooming</th>\n",
       "      <th>zumba</th>\n",
       "    </tr>\n",
       "  </thead>\n",
       "  <tbody>\n",
       "    <tr>\n",
       "      <th>8925</th>\n",
       "      <td>0.0</td>\n",
       "      <td>0.0</td>\n",
       "      <td>0.0</td>\n",
       "      <td>0.0</td>\n",
       "      <td>0.0</td>\n",
       "      <td>0.0</td>\n",
       "      <td>0.0</td>\n",
       "      <td>0.0</td>\n",
       "      <td>0.0</td>\n",
       "      <td>0.0</td>\n",
       "      <td>...</td>\n",
       "      <td>0.0</td>\n",
       "      <td>0.0</td>\n",
       "      <td>0.0</td>\n",
       "      <td>0.0</td>\n",
       "      <td>0.0</td>\n",
       "      <td>0.0</td>\n",
       "      <td>0.0</td>\n",
       "      <td>0.0</td>\n",
       "      <td>0.0</td>\n",
       "      <td>0.0</td>\n",
       "    </tr>\n",
       "    <tr>\n",
       "      <th>12322</th>\n",
       "      <td>0.0</td>\n",
       "      <td>0.0</td>\n",
       "      <td>0.0</td>\n",
       "      <td>0.0</td>\n",
       "      <td>0.0</td>\n",
       "      <td>0.0</td>\n",
       "      <td>0.0</td>\n",
       "      <td>0.0</td>\n",
       "      <td>0.0</td>\n",
       "      <td>0.0</td>\n",
       "      <td>...</td>\n",
       "      <td>0.0</td>\n",
       "      <td>0.0</td>\n",
       "      <td>0.0</td>\n",
       "      <td>0.0</td>\n",
       "      <td>0.0</td>\n",
       "      <td>0.0</td>\n",
       "      <td>0.0</td>\n",
       "      <td>0.0</td>\n",
       "      <td>0.0</td>\n",
       "      <td>0.0</td>\n",
       "    </tr>\n",
       "    <tr>\n",
       "      <th>10050</th>\n",
       "      <td>0.0</td>\n",
       "      <td>0.0</td>\n",
       "      <td>0.0</td>\n",
       "      <td>0.0</td>\n",
       "      <td>0.0</td>\n",
       "      <td>0.0</td>\n",
       "      <td>0.0</td>\n",
       "      <td>0.0</td>\n",
       "      <td>0.0</td>\n",
       "      <td>0.0</td>\n",
       "      <td>...</td>\n",
       "      <td>0.0</td>\n",
       "      <td>0.0</td>\n",
       "      <td>0.0</td>\n",
       "      <td>0.0</td>\n",
       "      <td>0.0</td>\n",
       "      <td>0.0</td>\n",
       "      <td>0.0</td>\n",
       "      <td>0.0</td>\n",
       "      <td>0.0</td>\n",
       "      <td>0.0</td>\n",
       "    </tr>\n",
       "  </tbody>\n",
       "</table>\n",
       "<p>3 rows × 6495 columns</p>\n",
       "</div>"
      ],
      "text/plain": [
       "        aa  abandon  abandoned  abandoning  abandonment  abc  abdomen  abide  \\\n",
       "8925   0.0      0.0        0.0         0.0          0.0  0.0      0.0    0.0   \n",
       "12322  0.0      0.0        0.0         0.0          0.0  0.0      0.0    0.0   \n",
       "10050  0.0      0.0        0.0         0.0          0.0  0.0      0.0    0.0   \n",
       "\n",
       "       ability  abit  ...  zach  zealand  zen  zero  zest  zombie  zone  zoom  \\\n",
       "8925       0.0   0.0  ...   0.0      0.0  0.0   0.0   0.0     0.0   0.0   0.0   \n",
       "12322      0.0   0.0  ...   0.0      0.0  0.0   0.0   0.0     0.0   0.0   0.0   \n",
       "10050      0.0   0.0  ...   0.0      0.0  0.0   0.0   0.0     0.0   0.0   0.0   \n",
       "\n",
       "       zooming  zumba  \n",
       "8925       0.0    0.0  \n",
       "12322      0.0    0.0  \n",
       "10050      0.0    0.0  \n",
       "\n",
       "[3 rows x 6495 columns]"
      ]
     },
     "execution_count": 12,
     "metadata": {},
     "output_type": "execute_result"
    }
   ],
   "source": [
    "tf_df = pd.DataFrame(tf_df.toarray(), columns=tfidf.get_feature_names_out())\n",
    "tf_df.sample(n=3)"
   ]
  },
  {
   "cell_type": "code",
   "execution_count": 37,
   "metadata": {},
   "outputs": [
    {
     "data": {
      "text/html": [
       "<div>\n",
       "<style scoped>\n",
       "    .dataframe tbody tr th:only-of-type {\n",
       "        vertical-align: middle;\n",
       "    }\n",
       "\n",
       "    .dataframe tbody tr th {\n",
       "        vertical-align: top;\n",
       "    }\n",
       "\n",
       "    .dataframe thead th {\n",
       "        text-align: right;\n",
       "    }\n",
       "</style>\n",
       "<table border=\"1\" class=\"dataframe\">\n",
       "  <thead>\n",
       "    <tr style=\"text-align: right;\">\n",
       "      <th></th>\n",
       "      <th>aa</th>\n",
       "      <th>abandon</th>\n",
       "      <th>abandoned</th>\n",
       "      <th>abandoning</th>\n",
       "      <th>abandonment</th>\n",
       "      <th>abc</th>\n",
       "      <th>abdomen</th>\n",
       "      <th>abide</th>\n",
       "      <th>ability</th>\n",
       "      <th>abit</th>\n",
       "      <th>...</th>\n",
       "      <th>zach</th>\n",
       "      <th>zealand</th>\n",
       "      <th>zen</th>\n",
       "      <th>zero</th>\n",
       "      <th>zest</th>\n",
       "      <th>zombie</th>\n",
       "      <th>zone</th>\n",
       "      <th>zoom</th>\n",
       "      <th>zooming</th>\n",
       "      <th>zumba</th>\n",
       "    </tr>\n",
       "  </thead>\n",
       "  <tbody>\n",
       "    <tr>\n",
       "      <th>count</th>\n",
       "      <td>15999.000000</td>\n",
       "      <td>15999.000000</td>\n",
       "      <td>15999.000000</td>\n",
       "      <td>15999.000000</td>\n",
       "      <td>15999.000000</td>\n",
       "      <td>15999.000000</td>\n",
       "      <td>15999.000000</td>\n",
       "      <td>15999.000000</td>\n",
       "      <td>15999.000000</td>\n",
       "      <td>15999.000000</td>\n",
       "      <td>...</td>\n",
       "      <td>15999.000000</td>\n",
       "      <td>15999.000000</td>\n",
       "      <td>15999.000000</td>\n",
       "      <td>15999.000000</td>\n",
       "      <td>15999.000000</td>\n",
       "      <td>15999.000000</td>\n",
       "      <td>15999.000000</td>\n",
       "      <td>15999.000000</td>\n",
       "      <td>15999.000000</td>\n",
       "      <td>15999.000000</td>\n",
       "    </tr>\n",
       "    <tr>\n",
       "      <th>mean</th>\n",
       "      <td>0.000088</td>\n",
       "      <td>0.000080</td>\n",
       "      <td>0.000250</td>\n",
       "      <td>0.000076</td>\n",
       "      <td>0.000092</td>\n",
       "      <td>0.000111</td>\n",
       "      <td>0.000112</td>\n",
       "      <td>0.000084</td>\n",
       "      <td>0.000784</td>\n",
       "      <td>0.000138</td>\n",
       "      <td>...</td>\n",
       "      <td>0.000072</td>\n",
       "      <td>0.000096</td>\n",
       "      <td>0.000053</td>\n",
       "      <td>0.000137</td>\n",
       "      <td>0.000049</td>\n",
       "      <td>0.000127</td>\n",
       "      <td>0.000239</td>\n",
       "      <td>0.000051</td>\n",
       "      <td>0.000054</td>\n",
       "      <td>0.000067</td>\n",
       "    </tr>\n",
       "    <tr>\n",
       "      <th>std</th>\n",
       "      <td>0.006486</td>\n",
       "      <td>0.006044</td>\n",
       "      <td>0.012614</td>\n",
       "      <td>0.006844</td>\n",
       "      <td>0.006779</td>\n",
       "      <td>0.007231</td>\n",
       "      <td>0.007563</td>\n",
       "      <td>0.006296</td>\n",
       "      <td>0.016766</td>\n",
       "      <td>0.009148</td>\n",
       "      <td>...</td>\n",
       "      <td>0.006537</td>\n",
       "      <td>0.006198</td>\n",
       "      <td>0.004726</td>\n",
       "      <td>0.007408</td>\n",
       "      <td>0.004508</td>\n",
       "      <td>0.007301</td>\n",
       "      <td>0.009740</td>\n",
       "      <td>0.004746</td>\n",
       "      <td>0.005011</td>\n",
       "      <td>0.004937</td>\n",
       "    </tr>\n",
       "    <tr>\n",
       "      <th>min</th>\n",
       "      <td>0.000000</td>\n",
       "      <td>0.000000</td>\n",
       "      <td>0.000000</td>\n",
       "      <td>0.000000</td>\n",
       "      <td>0.000000</td>\n",
       "      <td>0.000000</td>\n",
       "      <td>0.000000</td>\n",
       "      <td>0.000000</td>\n",
       "      <td>0.000000</td>\n",
       "      <td>0.000000</td>\n",
       "      <td>...</td>\n",
       "      <td>0.000000</td>\n",
       "      <td>0.000000</td>\n",
       "      <td>0.000000</td>\n",
       "      <td>0.000000</td>\n",
       "      <td>0.000000</td>\n",
       "      <td>0.000000</td>\n",
       "      <td>0.000000</td>\n",
       "      <td>0.000000</td>\n",
       "      <td>0.000000</td>\n",
       "      <td>0.000000</td>\n",
       "    </tr>\n",
       "    <tr>\n",
       "      <th>25%</th>\n",
       "      <td>0.000000</td>\n",
       "      <td>0.000000</td>\n",
       "      <td>0.000000</td>\n",
       "      <td>0.000000</td>\n",
       "      <td>0.000000</td>\n",
       "      <td>0.000000</td>\n",
       "      <td>0.000000</td>\n",
       "      <td>0.000000</td>\n",
       "      <td>0.000000</td>\n",
       "      <td>0.000000</td>\n",
       "      <td>...</td>\n",
       "      <td>0.000000</td>\n",
       "      <td>0.000000</td>\n",
       "      <td>0.000000</td>\n",
       "      <td>0.000000</td>\n",
       "      <td>0.000000</td>\n",
       "      <td>0.000000</td>\n",
       "      <td>0.000000</td>\n",
       "      <td>0.000000</td>\n",
       "      <td>0.000000</td>\n",
       "      <td>0.000000</td>\n",
       "    </tr>\n",
       "    <tr>\n",
       "      <th>50%</th>\n",
       "      <td>0.000000</td>\n",
       "      <td>0.000000</td>\n",
       "      <td>0.000000</td>\n",
       "      <td>0.000000</td>\n",
       "      <td>0.000000</td>\n",
       "      <td>0.000000</td>\n",
       "      <td>0.000000</td>\n",
       "      <td>0.000000</td>\n",
       "      <td>0.000000</td>\n",
       "      <td>0.000000</td>\n",
       "      <td>...</td>\n",
       "      <td>0.000000</td>\n",
       "      <td>0.000000</td>\n",
       "      <td>0.000000</td>\n",
       "      <td>0.000000</td>\n",
       "      <td>0.000000</td>\n",
       "      <td>0.000000</td>\n",
       "      <td>0.000000</td>\n",
       "      <td>0.000000</td>\n",
       "      <td>0.000000</td>\n",
       "      <td>0.000000</td>\n",
       "    </tr>\n",
       "    <tr>\n",
       "      <th>75%</th>\n",
       "      <td>0.000000</td>\n",
       "      <td>0.000000</td>\n",
       "      <td>0.000000</td>\n",
       "      <td>0.000000</td>\n",
       "      <td>0.000000</td>\n",
       "      <td>0.000000</td>\n",
       "      <td>0.000000</td>\n",
       "      <td>0.000000</td>\n",
       "      <td>0.000000</td>\n",
       "      <td>0.000000</td>\n",
       "      <td>...</td>\n",
       "      <td>0.000000</td>\n",
       "      <td>0.000000</td>\n",
       "      <td>0.000000</td>\n",
       "      <td>0.000000</td>\n",
       "      <td>0.000000</td>\n",
       "      <td>0.000000</td>\n",
       "      <td>0.000000</td>\n",
       "      <td>0.000000</td>\n",
       "      <td>0.000000</td>\n",
       "      <td>0.000000</td>\n",
       "    </tr>\n",
       "    <tr>\n",
       "      <th>max</th>\n",
       "      <td>0.521035</td>\n",
       "      <td>0.581781</td>\n",
       "      <td>0.818975</td>\n",
       "      <td>0.667780</td>\n",
       "      <td>0.586314</td>\n",
       "      <td>0.610155</td>\n",
       "      <td>0.729999</td>\n",
       "      <td>0.594738</td>\n",
       "      <td>0.541364</td>\n",
       "      <td>0.771920</td>\n",
       "      <td>...</td>\n",
       "      <td>0.676502</td>\n",
       "      <td>0.491465</td>\n",
       "      <td>0.430916</td>\n",
       "      <td>0.594343</td>\n",
       "      <td>0.488050</td>\n",
       "      <td>0.492643</td>\n",
       "      <td>0.513285</td>\n",
       "      <td>0.531097</td>\n",
       "      <td>0.552705</td>\n",
       "      <td>0.384099</td>\n",
       "    </tr>\n",
       "  </tbody>\n",
       "</table>\n",
       "<p>8 rows × 6495 columns</p>\n",
       "</div>"
      ],
      "text/plain": [
       "                 aa       abandon     abandoned    abandoning   abandonment  \\\n",
       "count  15999.000000  15999.000000  15999.000000  15999.000000  15999.000000   \n",
       "mean       0.000088      0.000080      0.000250      0.000076      0.000092   \n",
       "std        0.006486      0.006044      0.012614      0.006844      0.006779   \n",
       "min        0.000000      0.000000      0.000000      0.000000      0.000000   \n",
       "25%        0.000000      0.000000      0.000000      0.000000      0.000000   \n",
       "50%        0.000000      0.000000      0.000000      0.000000      0.000000   \n",
       "75%        0.000000      0.000000      0.000000      0.000000      0.000000   \n",
       "max        0.521035      0.581781      0.818975      0.667780      0.586314   \n",
       "\n",
       "                abc       abdomen         abide       ability          abit  \\\n",
       "count  15999.000000  15999.000000  15999.000000  15999.000000  15999.000000   \n",
       "mean       0.000111      0.000112      0.000084      0.000784      0.000138   \n",
       "std        0.007231      0.007563      0.006296      0.016766      0.009148   \n",
       "min        0.000000      0.000000      0.000000      0.000000      0.000000   \n",
       "25%        0.000000      0.000000      0.000000      0.000000      0.000000   \n",
       "50%        0.000000      0.000000      0.000000      0.000000      0.000000   \n",
       "75%        0.000000      0.000000      0.000000      0.000000      0.000000   \n",
       "max        0.610155      0.729999      0.594738      0.541364      0.771920   \n",
       "\n",
       "       ...          zach       zealand           zen          zero  \\\n",
       "count  ...  15999.000000  15999.000000  15999.000000  15999.000000   \n",
       "mean   ...      0.000072      0.000096      0.000053      0.000137   \n",
       "std    ...      0.006537      0.006198      0.004726      0.007408   \n",
       "min    ...      0.000000      0.000000      0.000000      0.000000   \n",
       "25%    ...      0.000000      0.000000      0.000000      0.000000   \n",
       "50%    ...      0.000000      0.000000      0.000000      0.000000   \n",
       "75%    ...      0.000000      0.000000      0.000000      0.000000   \n",
       "max    ...      0.676502      0.491465      0.430916      0.594343   \n",
       "\n",
       "               zest        zombie          zone          zoom       zooming  \\\n",
       "count  15999.000000  15999.000000  15999.000000  15999.000000  15999.000000   \n",
       "mean       0.000049      0.000127      0.000239      0.000051      0.000054   \n",
       "std        0.004508      0.007301      0.009740      0.004746      0.005011   \n",
       "min        0.000000      0.000000      0.000000      0.000000      0.000000   \n",
       "25%        0.000000      0.000000      0.000000      0.000000      0.000000   \n",
       "50%        0.000000      0.000000      0.000000      0.000000      0.000000   \n",
       "75%        0.000000      0.000000      0.000000      0.000000      0.000000   \n",
       "max        0.488050      0.492643      0.513285      0.531097      0.552705   \n",
       "\n",
       "              zumba  \n",
       "count  15999.000000  \n",
       "mean       0.000067  \n",
       "std        0.004937  \n",
       "min        0.000000  \n",
       "25%        0.000000  \n",
       "50%        0.000000  \n",
       "75%        0.000000  \n",
       "max        0.384099  \n",
       "\n",
       "[8 rows x 6495 columns]"
      ]
     },
     "execution_count": 37,
     "metadata": {},
     "output_type": "execute_result"
    }
   ],
   "source": [
    "tf_df.describe()"
   ]
  },
  {
   "cell_type": "code",
   "execution_count": 41,
   "metadata": {},
   "outputs": [
    {
     "data": {
      "text/plain": [
       "5"
      ]
     },
     "execution_count": 41,
     "metadata": {},
     "output_type": "execute_result"
    }
   ],
   "source": [
    "# Either run this cell or the next, NOT both - this is for reproducible shuffling of train/test data\n",
    "random_seed = randint(0, 50)\n",
    "random_seed"
   ]
  },
  {
   "cell_type": "code",
   "execution_count": 13,
   "metadata": {},
   "outputs": [],
   "source": [
    "# Either run this cell or the above, NOT both\n",
    "random_seed = 5"
   ]
  },
  {
   "cell_type": "code",
   "execution_count": 16,
   "metadata": {},
   "outputs": [],
   "source": [
    "from sklearn.model_selection import train_test_split"
   ]
  },
  {
   "cell_type": "code",
   "execution_count": 17,
   "metadata": {},
   "outputs": [
    {
     "data": {
      "text/plain": [
       "((12799, 6495), (12799,))"
      ]
     },
     "execution_count": 17,
     "metadata": {},
     "output_type": "execute_result"
    }
   ],
   "source": [
    "X_train, X_test, y_train, y_test = train_test_split(\n",
    "    tf_df, edf['label'], test_size=0.2, random_state=random_seed, stratify=edf['label']\n",
    ")\n",
    "X_train.shape, y_train.shape"
   ]
  },
  {
   "cell_type": "code",
   "execution_count": 18,
   "metadata": {},
   "outputs": [
    {
     "data": {
      "text/plain": [
       "((3200, 6495), (3200,))"
      ]
     },
     "execution_count": 18,
     "metadata": {},
     "output_type": "execute_result"
    }
   ],
   "source": [
    "X_test.shape, y_test.shape"
   ]
  },
  {
   "cell_type": "markdown",
   "metadata": {},
   "source": [
    "# ML Models"
   ]
  },
  {
   "cell_type": "code",
   "execution_count": 38,
   "metadata": {},
   "outputs": [],
   "source": [
    "from sklearn.linear_model import LogisticRegression\n",
    "from sklearn.naive_bayes import MultinomialNB\n",
    "from sklearn.ensemble import RandomForestClassifier\n",
    "import warnings\n",
    "warnings.filterwarnings('ignore')"
   ]
  },
  {
   "cell_type": "markdown",
   "metadata": {},
   "source": [
    "## Logistic Regression"
   ]
  },
  {
   "cell_type": "code",
   "execution_count": 46,
   "metadata": {},
   "outputs": [
    {
     "data": {
      "text/plain": [
       "0.95375"
      ]
     },
     "execution_count": 46,
     "metadata": {},
     "output_type": "execute_result"
    }
   ],
   "source": [
    "lr_model = LogisticRegression().fit(X_train, y_train)\n",
    "lr_model.score(X_test, y_test)"
   ]
  },
  {
   "cell_type": "markdown",
   "metadata": {},
   "source": [
    "## Naive Bayes"
   ]
  },
  {
   "cell_type": "code",
   "execution_count": 47,
   "metadata": {},
   "outputs": [
    {
     "data": {
      "text/plain": [
       "0.933125"
      ]
     },
     "execution_count": 47,
     "metadata": {},
     "output_type": "execute_result"
    }
   ],
   "source": [
    "nb_model = MultinomialNB().fit(X_train, y_train)\n",
    "nb_model.score(X_test, y_test)"
   ]
  },
  {
   "cell_type": "markdown",
   "metadata": {},
   "source": [
    "## Random Forest"
   ]
  },
  {
   "cell_type": "code",
   "execution_count": 48,
   "metadata": {},
   "outputs": [
    {
     "data": {
      "text/plain": [
       "0.940625"
      ]
     },
     "execution_count": 48,
     "metadata": {},
     "output_type": "execute_result"
    }
   ],
   "source": [
    "rf_model = RandomForestClassifier().fit(X_train, y_train)\n",
    "rf_model.score(X_test, y_test)"
   ]
  },
  {
   "cell_type": "markdown",
   "metadata": {},
   "source": [
    "# DL Models"
   ]
  },
  {
   "cell_type": "code",
   "execution_count": 14,
   "metadata": {},
   "outputs": [
    {
     "name": "stderr",
     "output_type": "stream",
     "text": [
      "2024-03-05 19:29:42.253353: I tensorflow/core/util/port.cc:111] oneDNN custom operations are on. You may see slightly different numerical results due to floating-point round-off errors from different computation orders. To turn them off, set the environment variable `TF_ENABLE_ONEDNN_OPTS=0`.\n",
      "2024-03-05 19:29:42.473517: E tensorflow/compiler/xla/stream_executor/cuda/cuda_dnn.cc:9342] Unable to register cuDNN factory: Attempting to register factory for plugin cuDNN when one has already been registered\n",
      "2024-03-05 19:29:42.473576: E tensorflow/compiler/xla/stream_executor/cuda/cuda_fft.cc:609] Unable to register cuFFT factory: Attempting to register factory for plugin cuFFT when one has already been registered\n",
      "2024-03-05 19:29:42.474379: E tensorflow/compiler/xla/stream_executor/cuda/cuda_blas.cc:1518] Unable to register cuBLAS factory: Attempting to register factory for plugin cuBLAS when one has already been registered\n",
      "2024-03-05 19:29:42.557664: I tensorflow/core/platform/cpu_feature_guard.cc:182] This TensorFlow binary is optimized to use available CPU instructions in performance-critical operations.\n",
      "To enable the following instructions: AVX2 AVX_VNNI FMA, in other operations, rebuild TensorFlow with the appropriate compiler flags.\n"
     ]
    }
   ],
   "source": [
    "import tensorflow as tf"
   ]
  },
  {
   "cell_type": "markdown",
   "metadata": {},
   "source": [
    "## RNN\n",
    "\n",
    "Adapted from [TensorFlow Text Classification RNN Tutorial](https://www.tensorflow.org/text/tutorials/text_classification_rnn)"
   ]
  },
  {
   "cell_type": "code",
   "execution_count": 20,
   "metadata": {},
   "outputs": [],
   "source": [
    "DIM_NUM = 64"
   ]
  },
  {
   "cell_type": "code",
   "execution_count": 22,
   "metadata": {},
   "outputs": [
    {
     "name": "stderr",
     "output_type": "stream",
     "text": [
      "2024-03-05 19:45:15.602837: E tensorflow/compiler/xla/stream_executor/cuda/cuda_driver.cc:268] failed call to cuInit: CUDA_ERROR_COMPAT_NOT_SUPPORTED_ON_DEVICE: forward compatibility was attempted on non supported HW\n",
      "2024-03-05 19:45:15.602898: I tensorflow/compiler/xla/stream_executor/cuda/cuda_diagnostics.cc:168] retrieving CUDA diagnostic information for host: rainbow\n",
      "2024-03-05 19:45:15.602907: I tensorflow/compiler/xla/stream_executor/cuda/cuda_diagnostics.cc:175] hostname: rainbow\n",
      "2024-03-05 19:45:15.603113: I tensorflow/compiler/xla/stream_executor/cuda/cuda_diagnostics.cc:199] libcuda reported version is: 535.161.7\n",
      "2024-03-05 19:45:15.603138: I tensorflow/compiler/xla/stream_executor/cuda/cuda_diagnostics.cc:203] kernel reported version is: 535.154.5\n",
      "2024-03-05 19:45:15.603144: E tensorflow/compiler/xla/stream_executor/cuda/cuda_diagnostics.cc:312] kernel version 535.154.5 does not match DSO version 535.161.7 -- cannot find working devices in this configuration\n"
     ]
    }
   ],
   "source": [
    "rnn_model = tf.keras.Sequential([\n",
    "    tf.keras.layers.Embedding(\n",
    "        input_dim=X_train.shape[1],\n",
    "        output_dim=DIM_NUM,\n",
    "        mask_zero=True), # Masking to handel variable sequence lengths? Is this even necessary?\n",
    "    tf.keras.layers.Bidirectional(tf.keras.layers.LSTM(DIM_NUM)),\n",
    "    tf.keras.layers.Dense(DIM_NUM, activation='relu'),\n",
    "    tf.keras.layers.Dense(1)\n",
    "])"
   ]
  },
  {
   "cell_type": "markdown",
   "metadata": {},
   "source": [
    "## LSTM"
   ]
  }
 ],
 "metadata": {
  "kernelspec": {
   "display_name": "ece5831-py3.10",
   "language": "python",
   "name": "python3"
  },
  "language_info": {
   "codemirror_mode": {
    "name": "ipython",
    "version": 3
   },
   "file_extension": ".py",
   "mimetype": "text/x-python",
   "name": "python",
   "nbconvert_exporter": "python",
   "pygments_lexer": "ipython3",
   "version": "3.10.13"
  }
 },
 "nbformat": 4,
 "nbformat_minor": 2
}
