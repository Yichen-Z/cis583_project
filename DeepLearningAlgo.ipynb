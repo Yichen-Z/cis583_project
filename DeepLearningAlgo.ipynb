{
 "cells": [
  {
   "cell_type": "code",
   "execution_count": 3,
   "metadata": {},
   "outputs": [],
   "source": [
    "import matplotlib.pyplot as plt\n",
    "import numpy as np\n",
    "import pandas as pd\n",
    "import seaborn as sns\n",
    "\n",
    "import make_data as md\n",
    "import utils"
   ]
  },
  {
   "cell_type": "code",
   "execution_count": 4,
   "metadata": {},
   "outputs": [
    {
     "name": "stdout",
     "output_type": "stream",
     "text": [
      "<class 'pandas.core.frame.DataFrame'>\n",
      "RangeIndex: 22632 entries, 0 to 22631\n",
      "Data columns (total 2 columns):\n",
      " #   Column          Non-Null Count  Dtype \n",
      "---  ------          --------------  ----- \n",
      " 0   label           22632 non-null  int64 \n",
      " 1   processed_text  22632 non-null  object\n",
      "dtypes: int64(1), object(1)\n",
      "memory usage: 353.8+ KB\n"
     ]
    }
   ],
   "source": [
    "# Directly load combined and cleaned data. Otherwise run next section to create.\n",
    "df = pd.read_csv('data/all_clean_data.csv')\n",
    "df.info()"
   ]
  },
  {
   "cell_type": "markdown",
   "metadata": {},
   "source": [
    "# Load, Clean, Combine, and Save Data\n",
    "\n",
    "Do **NOT** run this section if data has been successfully read in with previous cell."
   ]
  },
  {
   "cell_type": "code",
   "execution_count": 5,
   "metadata": {},
   "outputs": [
    {
     "name": "stdout",
     "output_type": "stream",
     "text": [
      "<class 'pandas.core.frame.DataFrame'>\n",
      "RangeIndex: 19997 entries, 0 to 19996\n",
      "Data columns (total 3 columns):\n",
      " #   Column   Non-Null Count  Dtype \n",
      "---  ------   --------------  ----- \n",
      " 0   text     19997 non-null  object\n",
      " 1   emotion  19997 non-null  object\n",
      " 2   label    19997 non-null  int32 \n",
      "dtypes: int32(1), object(2)\n",
      "memory usage: 390.7+ KB\n"
     ]
    },
    {
     "name": "stderr",
     "output_type": "stream",
     "text": [
      "/Applications/Masters /CIS 583/Project Repo/cis583_project/make_data.py:50: FutureWarning: Downcasting behavior in `replace` is deprecated and will be removed in a future version. To retain the old behavior, explicitly call `result.infer_objects(copy=False)`. To opt-in to the future behavior, set `pd.set_option('future.no_silent_downcasting', True)`\n",
      "  raw_df['label'] = raw_df['emotion'].replace(stress_proxy)\n"
     ]
    }
   ],
   "source": [
    "edf = md.combine_emotion_data()\n",
    "edf = md.make_proxy_label(edf)\n",
    "edf.info()"
   ]
  },
  {
   "cell_type": "code",
   "execution_count": 6,
   "metadata": {},
   "outputs": [
    {
     "data": {
      "text/html": [
       "<div>\n",
       "<style scoped>\n",
       "    .dataframe tbody tr th:only-of-type {\n",
       "        vertical-align: middle;\n",
       "    }\n",
       "\n",
       "    .dataframe tbody tr th {\n",
       "        vertical-align: top;\n",
       "    }\n",
       "\n",
       "    .dataframe thead th {\n",
       "        text-align: right;\n",
       "    }\n",
       "</style>\n",
       "<table border=\"1\" class=\"dataframe\">\n",
       "  <thead>\n",
       "    <tr style=\"text-align: right;\">\n",
       "      <th></th>\n",
       "      <th>emotion</th>\n",
       "      <th>label</th>\n",
       "      <th>processed_text</th>\n",
       "    </tr>\n",
       "  </thead>\n",
       "  <tbody>\n",
       "    <tr>\n",
       "      <th>18744</th>\n",
       "      <td>surprise</td>\n",
       "      <td>0</td>\n",
       "      <td>left feeling dazed confused</td>\n",
       "    </tr>\n",
       "    <tr>\n",
       "      <th>9867</th>\n",
       "      <td>joy</td>\n",
       "      <td>0</td>\n",
       "      <td>exactly sure going feel class gorgeous day hel...</td>\n",
       "    </tr>\n",
       "    <tr>\n",
       "      <th>10810</th>\n",
       "      <td>fear</td>\n",
       "      <td>1</td>\n",
       "      <td>feel pretty terrified letting good people kind...</td>\n",
       "    </tr>\n",
       "  </tbody>\n",
       "</table>\n",
       "</div>"
      ],
      "text/plain": [
       "        emotion  label                                     processed_text\n",
       "18744  surprise      0                        left feeling dazed confused\n",
       "9867        joy      0  exactly sure going feel class gorgeous day hel...\n",
       "10810      fear      1  feel pretty terrified letting good people kind..."
      ]
     },
     "execution_count": 6,
     "metadata": {},
     "output_type": "execute_result"
    }
   ],
   "source": [
    "edf = md.clean_data(edf)\n",
    "edf.sample(n=3)"
   ]
  },
  {
   "cell_type": "code",
   "execution_count": 7,
   "metadata": {},
   "outputs": [
    {
     "name": "stdout",
     "output_type": "stream",
     "text": [
      "<class 'pandas.core.frame.DataFrame'>\n",
      "RangeIndex: 2838 entries, 0 to 2837\n",
      "Data columns (total 2 columns):\n",
      " #   Column          Non-Null Count  Dtype \n",
      "---  ------          --------------  ----- \n",
      " 0   label           2838 non-null   int64 \n",
      " 1   processed_text  2838 non-null   object\n",
      "dtypes: int64(1), object(1)\n",
      "memory usage: 44.5+ KB\n"
     ]
    }
   ],
   "source": [
    "df = pd.read_csv('data/Stress.csv')[['label', 'text']]\n",
    "df = md.clean_data(df)\n",
    "df.info()"
   ]
  },
  {
   "cell_type": "code",
   "execution_count": 8,
   "metadata": {},
   "outputs": [
    {
     "name": "stdout",
     "output_type": "stream",
     "text": [
      "<class 'pandas.core.frame.DataFrame'>\n",
      "Index: 22835 entries, 0 to 19996\n",
      "Data columns (total 2 columns):\n",
      " #   Column          Non-Null Count  Dtype \n",
      "---  ------          --------------  ----- \n",
      " 0   label           22835 non-null  int64 \n",
      " 1   processed_text  22835 non-null  object\n",
      "dtypes: int64(1), object(1)\n",
      "memory usage: 535.2+ KB\n"
     ]
    }
   ],
   "source": [
    "edf = edf[['label', 'processed_text']].copy()\n",
    "df = pd.concat([df, edf])\n",
    "df.info()"
   ]
  },
  {
   "cell_type": "code",
   "execution_count": 10,
   "metadata": {},
   "outputs": [
    {
     "data": {
      "text/plain": [
       "203"
      ]
     },
     "execution_count": 10,
     "metadata": {},
     "output_type": "execute_result"
    }
   ],
   "source": [
    "df.duplicated().sum()"
   ]
  },
  {
   "cell_type": "code",
   "execution_count": 11,
   "metadata": {},
   "outputs": [
    {
     "name": "stdout",
     "output_type": "stream",
     "text": [
      "<class 'pandas.core.frame.DataFrame'>\n",
      "RangeIndex: 22632 entries, 0 to 22631\n",
      "Data columns (total 2 columns):\n",
      " #   Column          Non-Null Count  Dtype \n",
      "---  ------          --------------  ----- \n",
      " 0   label           22632 non-null  int64 \n",
      " 1   processed_text  22632 non-null  object\n",
      "dtypes: int64(1), object(1)\n",
      "memory usage: 353.8+ KB\n"
     ]
    }
   ],
   "source": [
    "df = df.drop_duplicates(ignore_index=True)\n",
    "df.info()"
   ]
  },
  {
   "cell_type": "code",
   "execution_count": 12,
   "metadata": {},
   "outputs": [],
   "source": [
    "df.to_csv('data/all_clean_data.csv', index=False)"
   ]
  },
  {
   "cell_type": "markdown",
   "metadata": {},
   "source": [
    "# Exploring the Dataset"
   ]
  },
  {
   "cell_type": "code",
   "execution_count": 13,
   "metadata": {},
   "outputs": [
    {
     "data": {
      "image/png": "[encoded data removed]",
      "text/plain": [
       "<Figure size 600x600 with 1 Axes>"
      ]
     },
     "metadata": {},
     "output_type": "display_data"
    }
   ],
   "source": [
    "import matplotlib.pyplot as plt\n",
    "\n",
    "# Sample binary dataset\n",
    "labels = ['Stress present 1', 'Stress not present 0']\n",
    "sizes=[sum(1 for label in df['label'] if label == 1),sum(1 for label in df['label'] if label == 0)]\n",
    "\n",
    "# Create a pie chart\n",
    "plt.figure(figsize=(6, 6))\n",
    "plt.pie(sizes, labels=labels, autopct='%1.1f%%', startangle=140, colors=['skyblue', 'lightgreen'])\n",
    "\n",
    "# Equal aspect ratio ensures that pie is drawn as a circle\n",
    "plt.axis('equal')\n",
    "plt.title('Stress Present vs No stress')\n",
    "plt.show()"
   ]
  },
  {
   "cell_type": "markdown",
   "metadata": {},
   "source": [
    "# Modeling Imports"
   ]
  },
  {
   "cell_type": "code",
   "execution_count": 14,
   "metadata": {},
   "outputs": [],
   "source": [
    "from sklearn.model_selection import train_test_split\n",
    "\n",
    "import tensorflow as tf"
   ]
  },
  {
   "cell_type": "code",
   "execution_count": 15,
   "metadata": {},
   "outputs": [],
   "source": [
    "RANDOM_VALUE = 42\n",
    "VOCAB_SIZE = 10_000"
   ]
  },
  {
   "cell_type": "markdown",
   "metadata": {},
   "source": [
    "Split into train, validation, and test sets before vectorizing."
   ]
  },
  {
   "cell_type": "code",
   "execution_count": 16,
   "metadata": {},
   "outputs": [
    {
     "data": {
      "text/plain": [
       "((15842,), (15842,))"
      ]
     },
     "execution_count": 16,
     "metadata": {},
     "output_type": "execute_result"
    }
   ],
   "source": [
    "X_train, X_temp, y_train, y_temp = train_test_split(\n",
    "    df['processed_text'], df['label'],\n",
    "    test_size=0.3, random_state=RANDOM_VALUE\n",
    ")\n",
    "X_train.shape, y_train.shape"
   ]
  },
  {
   "cell_type": "code",
   "execution_count": 17,
   "metadata": {},
   "outputs": [
    {
     "data": {
      "text/plain": [
       "((3395,), (3395,), (3395,), (3395,))"
      ]
     },
     "execution_count": 17,
     "metadata": {},
     "output_type": "execute_result"
    }
   ],
   "source": [
    "X_val, X_test, y_val, y_test = train_test_split(\n",
    "    X_temp, y_temp,\n",
    "    test_size=0.5, random_state=RANDOM_VALUE\n",
    ")\n",
    "X_val.shape, y_val.shape, X_test.shape, y_test.shape"
   ]
  },
  {
   "cell_type": "markdown",
   "metadata": {},
   "source": [
    "# ML with TF-IDF Embedding"
   ]
  },
  {
   "cell_type": "code",
   "execution_count": 18,
   "metadata": {},
   "outputs": [],
   "source": [
    "from sklearn.feature_extraction.text import TfidfVectorizer\n",
    "from sklearn.linear_model import LogisticRegression\n",
    "from sklearn.naive_bayes import MultinomialNB\n",
    "from sklearn.ensemble import RandomForestClassifier\n",
    "import warnings\n",
    "warnings.filterwarnings('ignore')"
   ]
  },
  {
   "cell_type": "markdown",
   "metadata": {},
   "source": [
    "## TF-IDF Embedding"
   ]
  },
  {
   "cell_type": "markdown",
   "metadata": {},
   "source": [
    "No tokens appeared more often than across 60% of the texts, so a threshold was applied to keep this embedding comparable."
   ]
  },
  {
   "cell_type": "code",
   "execution_count": 19,
   "metadata": {},
   "outputs": [
    {
     "data": {
      "text/plain": [
       "10000"
      ]
     },
     "execution_count": 19,
     "metadata": {},
     "output_type": "execute_result"
    }
   ],
   "source": [
    "td_vectorizer = TfidfVectorizer(\n",
    "    max_features=VOCAB_SIZE\n",
    ")\n",
    "X_train_tfidf = td_vectorizer.fit_transform(X_train)\n",
    "len(td_vectorizer.vocabulary_)"
   ]
  },
  {
   "cell_type": "code",
   "execution_count": 20,
   "metadata": {},
   "outputs": [
    {
     "data": {
      "text/plain": [
       "((3395, 10000), (3395, 10000))"
      ]
     },
     "execution_count": 20,
     "metadata": {},
     "output_type": "execute_result"
    }
   ],
   "source": [
    "X_val_tfidf = td_vectorizer.transform(X_val)\n",
    "X_test_tfidf = td_vectorizer.transform(X_test)\n",
    "X_val_tfidf.shape, X_test_tfidf.shape"
   ]
  },
  {
   "cell_type": "markdown",
   "metadata": {},
   "source": [
    "## Models"
   ]
  },
  {
   "cell_type": "markdown",
   "metadata": {},
   "source": [
    "### Logistic Regression"
   ]
  },
  {
   "cell_type": "code",
   "execution_count": 21,
   "metadata": {},
   "outputs": [
    {
     "name": "stdout",
     "output_type": "stream",
     "text": [
      "[[1429  114]\n",
      " [ 145 1707]]\n"
     ]
    },
    {
     "data": {
      "image/png": "[encoded data removed]",
      "text/plain": [
       "<Figure size 640x480 with 2 Axes>"
      ]
     },
     "metadata": {},
     "output_type": "display_data"
    },
    {
     "name": "stdout",
     "output_type": "stream",
     "text": [
      "              precision    recall  f1-score   support\n",
      "\n",
      "           0       0.91      0.93      0.92      1543\n",
      "           1       0.94      0.92      0.93      1852\n",
      "\n",
      "    accuracy                           0.92      3395\n",
      "   macro avg       0.92      0.92      0.92      3395\n",
      "weighted avg       0.92      0.92      0.92      3395\n",
      "\n"
     ]
    }
   ],
   "source": [
    "logreg = LogisticRegression().fit(X_train_tfidf, y_train)\n",
    "utils.get_classification_report(\n",
    "    model=logreg,\n",
    "    features=X_test_tfidf,\n",
    "    target=y_test,\n",
    "    plot_title='Logistic Regression Confusion Matrix'\n",
    ")"
   ]
  },
  {
   "cell_type": "markdown",
   "metadata": {},
   "source": [
    "### Naive Bayes"
   ]
  },
  {
   "cell_type": "code",
   "execution_count": 22,
   "metadata": {},
   "outputs": [
    {
     "name": "stdout",
     "output_type": "stream",
     "text": [
      "[[1321   90]\n",
      " [ 253 1731]]\n"
     ]
    },
    {
     "data": {
      "image/png": "[encoded data removed]",
      "text/plain": [
       "<Figure size 640x480 with 2 Axes>"
      ]
     },
     "metadata": {},
     "output_type": "display_data"
    },
    {
     "name": "stdout",
     "output_type": "stream",
     "text": [
      "              precision    recall  f1-score   support\n",
      "\n",
      "           0       0.84      0.94      0.89      1411\n",
      "           1       0.95      0.87      0.91      1984\n",
      "\n",
      "    accuracy                           0.90      3395\n",
      "   macro avg       0.89      0.90      0.90      3395\n",
      "weighted avg       0.90      0.90      0.90      3395\n",
      "\n"
     ]
    }
   ],
   "source": [
    "bayes = MultinomialNB().fit(X_train_tfidf, y_train)\n",
    "utils.get_classification_report(\n",
    "    model=bayes,\n",
    "    features=X_test_tfidf,\n",
    "    target=y_test,\n",
    "    plot_title='Naive Bayes Confusion Matrix'\n",
    ")"
   ]
  },
  {
   "cell_type": "markdown",
   "metadata": {},
   "source": [
    "### Random Forest"
   ]
  },
  {
   "cell_type": "code",
   "execution_count": 23,
   "metadata": {},
   "outputs": [
    {
     "name": "stdout",
     "output_type": "stream",
     "text": [
      "[[1400  134]\n",
      " [ 174 1687]]\n"
     ]
    },
    {
     "data": {
      "image/png": "[encoded data removed]",
      "text/plain": [
       "<Figure size 640x480 with 2 Axes>"
      ]
     },
     "metadata": {},
     "output_type": "display_data"
    },
    {
     "name": "stdout",
     "output_type": "stream",
     "text": [
      "              precision    recall  f1-score   support\n",
      "\n",
      "           0       0.89      0.91      0.90      1534\n",
      "           1       0.93      0.91      0.92      1861\n",
      "\n",
      "    accuracy                           0.91      3395\n",
      "   macro avg       0.91      0.91      0.91      3395\n",
      "weighted avg       0.91      0.91      0.91      3395\n",
      "\n"
     ]
    }
   ],
   "source": [
    "rf = RandomForestClassifier().fit(X_train_tfidf, y_train)\n",
    "utils.get_classification_report(\n",
    "    model=rf,\n",
    "    features=X_test_tfidf,\n",
    "    target=y_test,\n",
    "    plot_title='Random Forest Confusion Matrix'\n",
    ")"
   ]
  },
  {
   "cell_type": "markdown",
   "metadata": {},
   "source": [
    "# (Optional) GPU Check"
   ]
  },
  {
   "cell_type": "code",
   "execution_count": 24,
   "metadata": {},
   "outputs": [
    {
     "name": "stdout",
     "output_type": "stream",
     "text": [
      "[name: \"/device:CPU:0\"\n",
      "device_type: \"CPU\"\n",
      "memory_limit: 268435456\n",
      "locality {\n",
      "}\n",
      "incarnation: 1721840456877102859\n",
      "xla_global_id: -1\n",
      "]\n",
      "2.12.0\n",
      "Number of GPUs available: 0\n",
      "Python 3.10.13\n"
     ]
    }
   ],
   "source": [
    "from tensorflow.python.client import device_lib\n",
    "\n",
    "print(device_lib.list_local_devices())\n",
    "print(tf.__version__)\n",
    "print('Number of GPUs available:', len(\n",
    "    tf.config.experimental.list_physical_devices('GPU')\n",
    "))\n",
    "!python --version"
   ]
  },
  {
   "cell_type": "markdown",
   "metadata": {},
   "source": [
    "# Deep Learning Embeddings"
   ]
  },
  {
   "cell_type": "code",
   "execution_count": 25,
   "metadata": {},
   "outputs": [],
   "source": [
    "from tensorflow.keras import layers\n",
    "from sklearn.metrics import classification_report"
   ]
  },
  {
   "cell_type": "markdown",
   "metadata": {},
   "source": [
    "## Default TensorFlow"
   ]
  },
  {
   "cell_type": "code",
   "execution_count": 26,
   "metadata": {},
   "outputs": [],
   "source": [
    "X_train_tensor = tf.convert_to_tensor(X_train)\n",
    "X_val_tensor = tf.convert_to_tensor(X_val)\n",
    "X_test_tensor = tf.convert_to_tensor(X_test)"
   ]
  },
  {
   "cell_type": "code",
   "execution_count": 27,
   "metadata": {},
   "outputs": [],
   "source": [
    "y_train_tensor = tf.convert_to_tensor(y_train)\n",
    "y_val_tensor = tf.convert_to_tensor(y_val)\n",
    "y_test_tensor = tf.convert_to_tensor(y_test)"
   ]
  },
  {
   "cell_type": "code",
   "execution_count": 28,
   "metadata": {},
   "outputs": [
    {
     "name": "stderr",
     "output_type": "stream",
     "text": [
      "2024-04-05 19:19:30.461579: W tensorflow/tsl/platform/profile_utils/cpu_utils.cc:128] Failed to get CPU frequency: 0 Hz\n"
     ]
    }
   ],
   "source": [
    "text_vect = layers.TextVectorization(\n",
    "    output_mode='int',\n",
    "    max_tokens=VOCAB_SIZE,\n",
    ")\n",
    "\n",
    "# Train the vectorizer\n",
    "text_vect.adapt(X_train)"
   ]
  },
  {
   "cell_type": "code",
   "execution_count": 29,
   "metadata": {},
   "outputs": [],
   "source": [
    "X_train_default = text_vect(X_train)\n",
    "X_val_default = text_vect(X_val)\n",
    "X_test_default = text_vect(X_test)"
   ]
  },
  {
   "cell_type": "code",
   "execution_count": 30,
   "metadata": {},
   "outputs": [],
   "source": [
    "BUFFER_SIZE = 5000\n",
    "BATCH_SIZE = 32\n",
    "EPOCHS = 50\n",
    "PATIENCE = 3"
   ]
  },
  {
   "cell_type": "markdown",
   "metadata": {},
   "source": [
    "# CNN"
   ]
  },
  {
   "cell_type": "code",
   "execution_count": 32,
   "metadata": {},
   "outputs": [
    {
     "name": "stdout",
     "output_type": "stream",
     "text": [
      "Model: \"model\"\n",
      "__________________________________________________________________________________________________\n",
      " Layer (type)                   Output Shape         Param #     Connected to                     \n",
      "==================================================================================================\n",
      " embedding_input (InputLayer)   [(None, 50)]         0           []                               \n",
      "                                                                                                  \n",
      " embedding_1_input (InputLayer)  [(None, 50)]        0           []                               \n",
      "                                                                                                  \n",
      " embedding (Embedding)          (None, 50, 32)       320000      ['embedding_input[0][0]']        \n",
      "                                                                                                  \n",
      " embedding_1 (Embedding)        (None, 50, 32)       320000      ['embedding_1_input[0][0]']      \n",
      "                                                                                                  \n",
      " conv1d (Conv1D)                (None, 50, 64)       6208        ['embedding[0][0]']              \n",
      "                                                                                                  \n",
      " conv1d_1 (Conv1D)              (None, 50, 64)       6208        ['embedding_1[0][0]']            \n",
      "                                                                                                  \n",
      " batch_normalization (BatchNorm  (None, 50, 64)      256         ['conv1d[0][0]']                 \n",
      " alization)                                                                                       \n",
      "                                                                                                  \n",
      " batch_normalization_1 (BatchNo  (None, 50, 64)      256         ['conv1d_1[0][0]']               \n",
      " rmalization)                                                                                     \n",
      "                                                                                                  \n",
      " re_lu (ReLU)                   (None, 50, 64)       0           ['batch_normalization[0][0]']    \n",
      "                                                                                                  \n",
      " re_lu_1 (ReLU)                 (None, 50, 64)       0           ['batch_normalization_1[0][0]']  \n",
      "                                                                                                  \n",
      " dropout (Dropout)              (None, 50, 64)       0           ['re_lu[0][0]']                  \n",
      "                                                                                                  \n",
      " dropout_1 (Dropout)            (None, 50, 64)       0           ['re_lu_1[0][0]']                \n",
      "                                                                                                  \n",
      " global_max_pooling1d (GlobalMa  (None, 64)          0           ['dropout[0][0]']                \n",
      " xPooling1D)                                                                                      \n",
      "                                                                                                  \n",
      " global_max_pooling1d_1 (Global  (None, 64)          0           ['dropout_1[0][0]']              \n",
      " MaxPooling1D)                                                                                    \n",
      "                                                                                                  \n",
      " concatenate (Concatenate)      (None, 128)          0           ['global_max_pooling1d[0][0]',   \n",
      "                                                                  'global_max_pooling1d_1[0][0]'] \n",
      "                                                                                                  \n",
      " dense (Dense)                  (None, 128)          16512       ['concatenate[0][0]']            \n",
      "                                                                                                  \n",
      " dropout_2 (Dropout)            (None, 128)          0           ['dense[0][0]']                  \n",
      "                                                                                                  \n",
      " dense_1 (Dense)                (None, 2)            258         ['dropout_2[0][0]']              \n",
      "                                                                                                  \n",
      "==================================================================================================\n",
      "Total params: 669,698\n",
      "Trainable params: 669,442\n",
      "Non-trainable params: 256\n",
      "__________________________________________________________________________________________________\n",
      "Epoch 1/50\n",
      "62/62 [==============================] - 2s 20ms/step - loss: 0.7646 - accuracy: 0.5328 - precision: 0.5328 - recall: 0.5328 - val_loss: 0.6924 - val_accuracy: 0.5806 - val_precision: 0.5804 - val_recall: 0.5803\n",
      "Epoch 2/50\n",
      "62/62 [==============================] - 1s 17ms/step - loss: 0.6766 - accuracy: 0.5821 - precision: 0.5821 - recall: 0.5821 - val_loss: 0.6908 - val_accuracy: 0.6177 - val_precision: 0.6177 - val_recall: 0.6177\n",
      "Epoch 3/50\n",
      "62/62 [==============================] - 1s 18ms/step - loss: 0.6171 - accuracy: 0.6581 - precision: 0.6581 - recall: 0.6581 - val_loss: 0.6819 - val_accuracy: 0.7437 - val_precision: 0.7437 - val_recall: 0.7437\n",
      "Epoch 4/50\n",
      "62/62 [==============================] - 1s 21ms/step - loss: 0.4912 - accuracy: 0.7637 - precision: 0.7637 - recall: 0.7637 - val_loss: 0.6451 - val_accuracy: 0.8383 - val_precision: 0.8383 - val_recall: 0.8383\n",
      "Epoch 5/50\n",
      "62/62 [==============================] - 1s 22ms/step - loss: 0.3337 - accuracy: 0.8534 - precision: 0.8534 - recall: 0.8534 - val_loss: 0.5730 - val_accuracy: 0.8904 - val_precision: 0.8904 - val_recall: 0.8904\n",
      "Epoch 6/50\n",
      "62/62 [==============================] - 1s 23ms/step - loss: 0.2246 - accuracy: 0.9059 - precision: 0.9059 - recall: 0.9059 - val_loss: 0.4796 - val_accuracy: 0.9093 - val_precision: 0.9093 - val_recall: 0.9093\n",
      "Epoch 7/50\n",
      "62/62 [==============================] - 1s 23ms/step - loss: 0.1688 - accuracy: 0.9315 - precision: 0.9315 - recall: 0.9315 - val_loss: 0.3882 - val_accuracy: 0.9219 - val_precision: 0.9219 - val_recall: 0.9219\n",
      "Epoch 8/50\n",
      "62/62 [==============================] - 1s 23ms/step - loss: 0.1364 - accuracy: 0.9462 - precision: 0.9462 - recall: 0.9462 - val_loss: 0.3110 - val_accuracy: 0.9216 - val_precision: 0.9216 - val_recall: 0.9216\n",
      "Epoch 9/50\n",
      "62/62 [==============================] - 2s 25ms/step - loss: 0.1131 - accuracy: 0.9568 - precision: 0.9568 - recall: 0.9568 - val_loss: 0.2457 - val_accuracy: 0.9231 - val_precision: 0.9231 - val_recall: 0.9231\n",
      "Epoch 10/50\n",
      "62/62 [==============================] - 2s 24ms/step - loss: 0.0982 - accuracy: 0.9626 - precision: 0.9626 - recall: 0.9626 - val_loss: 0.2073 - val_accuracy: 0.9216 - val_precision: 0.9216 - val_recall: 0.9216\n",
      "Epoch 11/50\n",
      "62/62 [==============================] - 2s 27ms/step - loss: 0.0815 - accuracy: 0.9683 - precision: 0.9683 - recall: 0.9683 - val_loss: 0.1824 - val_accuracy: 0.9299 - val_precision: 0.9299 - val_recall: 0.9299\n",
      "Epoch 12/50\n",
      "62/62 [==============================] - 2s 25ms/step - loss: 0.0712 - accuracy: 0.9729 - precision: 0.9729 - recall: 0.9729 - val_loss: 0.1759 - val_accuracy: 0.9252 - val_precision: 0.9252 - val_recall: 0.9252\n",
      "Epoch 13/50\n",
      "62/62 [==============================] - 1s 23ms/step - loss: 0.0593 - accuracy: 0.9787 - precision: 0.9787 - recall: 0.9787 - val_loss: 0.1742 - val_accuracy: 0.9290 - val_precision: 0.9290 - val_recall: 0.9290\n",
      "Epoch 14/50\n",
      "62/62 [==============================] - 2s 24ms/step - loss: 0.0546 - accuracy: 0.9798 - precision: 0.9798 - recall: 0.9798 - val_loss: 0.1811 - val_accuracy: 0.9272 - val_precision: 0.9272 - val_recall: 0.9272\n",
      "Epoch 15/50\n",
      "62/62 [==============================] - 1s 23ms/step - loss: 0.0476 - accuracy: 0.9818 - precision: 0.9818 - recall: 0.9818 - val_loss: 0.1778 - val_accuracy: 0.9264 - val_precision: 0.9264 - val_recall: 0.9264\n",
      "Epoch 16/50\n",
      "62/62 [==============================] - 1s 23ms/step - loss: 0.0470 - accuracy: 0.9824 - precision: 0.9824 - recall: 0.9824 - val_loss: 0.1782 - val_accuracy: 0.9284 - val_precision: 0.9284 - val_recall: 0.9284\n",
      "Epoch 17/50\n",
      "62/62 [==============================] - 1s 24ms/step - loss: 0.0389 - accuracy: 0.9849 - precision: 0.9849 - recall: 0.9849 - val_loss: 0.1850 - val_accuracy: 0.9258 - val_precision: 0.9258 - val_recall: 0.9258\n",
      "Epoch 18/50\n",
      "62/62 [==============================] - 1s 24ms/step - loss: 0.0351 - accuracy: 0.9881 - precision: 0.9881 - recall: 0.9881 - val_loss: 0.1869 - val_accuracy: 0.9287 - val_precision: 0.9287 - val_recall: 0.9287\n",
      "Epoch 19/50\n",
      "62/62 [==============================] - 2s 26ms/step - loss: 0.0307 - accuracy: 0.9895 - precision: 0.9895 - recall: 0.9895 - val_loss: 0.1910 - val_accuracy: 0.9290 - val_precision: 0.9290 - val_recall: 0.9290\n",
      "Epoch 20/50\n",
      "62/62 [==============================] - 2s 25ms/step - loss: 0.0300 - accuracy: 0.9890 - precision: 0.9890 - recall: 0.9890 - val_loss: 0.1939 - val_accuracy: 0.9278 - val_precision: 0.9278 - val_recall: 0.9278\n",
      "Epoch 21/50\n",
      "62/62 [==============================] - 2s 26ms/step - loss: 0.0259 - accuracy: 0.9896 - precision: 0.9896 - recall: 0.9896 - val_loss: 0.1987 - val_accuracy: 0.9258 - val_precision: 0.9258 - val_recall: 0.9258\n",
      "Epoch 22/50\n",
      "62/62 [==============================] - 2s 26ms/step - loss: 0.0213 - accuracy: 0.9926 - precision: 0.9926 - recall: 0.9926 - val_loss: 0.2105 - val_accuracy: 0.9231 - val_precision: 0.9231 - val_recall: 0.9231\n",
      "Epoch 23/50\n",
      "62/62 [==============================] - 2s 28ms/step - loss: 0.0225 - accuracy: 0.9922 - precision: 0.9922 - recall: 0.9922 - val_loss: 0.2090 - val_accuracy: 0.9249 - val_precision: 0.9249 - val_recall: 0.9249\n",
      "Epoch 24/50\n",
      "62/62 [==============================] - 1s 23ms/step - loss: 0.0182 - accuracy: 0.9931 - precision: 0.9931 - recall: 0.9931 - val_loss: 0.2144 - val_accuracy: 0.9264 - val_precision: 0.9264 - val_recall: 0.9264\n",
      "Epoch 25/50\n",
      "62/62 [==============================] - 1s 24ms/step - loss: 0.0185 - accuracy: 0.9941 - precision: 0.9941 - recall: 0.9941 - val_loss: 0.2154 - val_accuracy: 0.9258 - val_precision: 0.9258 - val_recall: 0.9258\n",
      "Epoch 26/50\n",
      "62/62 [==============================] - 1s 22ms/step - loss: 0.0184 - accuracy: 0.9936 - precision: 0.9936 - recall: 0.9936 - val_loss: 0.2146 - val_accuracy: 0.9270 - val_precision: 0.9270 - val_recall: 0.9270\n",
      "Epoch 27/50\n",
      "62/62 [==============================] - 2s 25ms/step - loss: 0.0155 - accuracy: 0.9944 - precision: 0.9944 - recall: 0.9944 - val_loss: 0.2205 - val_accuracy: 0.9284 - val_precision: 0.9284 - val_recall: 0.9284\n",
      "Epoch 28/50\n",
      "62/62 [==============================] - 2s 26ms/step - loss: 0.0142 - accuracy: 0.9953 - precision: 0.9953 - recall: 0.9953 - val_loss: 0.2283 - val_accuracy: 0.9272 - val_precision: 0.9272 - val_recall: 0.9272\n",
      "Epoch 29/50\n",
      "62/62 [==============================] - 2s 25ms/step - loss: 0.0148 - accuracy: 0.9950 - precision: 0.9950 - recall: 0.9950 - val_loss: 0.2259 - val_accuracy: 0.9267 - val_precision: 0.9267 - val_recall: 0.9267\n",
      "Epoch 30/50\n",
      "62/62 [==============================] - 2s 25ms/step - loss: 0.0121 - accuracy: 0.9962 - precision: 0.9962 - recall: 0.9962 - val_loss: 0.2284 - val_accuracy: 0.9281 - val_precision: 0.9281 - val_recall: 0.9281\n",
      "Epoch 31/50\n",
      "62/62 [==============================] - 2s 25ms/step - loss: 0.0135 - accuracy: 0.9951 - precision: 0.9951 - recall: 0.9951 - val_loss: 0.2353 - val_accuracy: 0.9267 - val_precision: 0.9267 - val_recall: 0.9267\n",
      "Epoch 32/50\n",
      "62/62 [==============================] - 2s 25ms/step - loss: 0.0127 - accuracy: 0.9960 - precision: 0.9960 - recall: 0.9960 - val_loss: 0.2357 - val_accuracy: 0.9272 - val_precision: 0.9272 - val_recall: 0.9272\n",
      "Epoch 33/50\n",
      "62/62 [==============================] - 2s 24ms/step - loss: 0.0103 - accuracy: 0.9963 - precision: 0.9963 - recall: 0.9963 - val_loss: 0.2383 - val_accuracy: 0.9275 - val_precision: 0.9275 - val_recall: 0.9275\n",
      "Epoch 34/50\n",
      "62/62 [==============================] - 1s 23ms/step - loss: 0.0105 - accuracy: 0.9963 - precision: 0.9963 - recall: 0.9963 - val_loss: 0.2428 - val_accuracy: 0.9270 - val_precision: 0.9270 - val_recall: 0.9270\n",
      "Epoch 35/50\n",
      "62/62 [==============================] - 1s 21ms/step - loss: 0.0111 - accuracy: 0.9960 - precision: 0.9960 - recall: 0.9960 - val_loss: 0.2444 - val_accuracy: 0.9270 - val_precision: 0.9270 - val_recall: 0.9270\n",
      "Epoch 36/50\n",
      "62/62 [==============================] - 1s 21ms/step - loss: 0.0100 - accuracy: 0.9967 - precision: 0.9967 - recall: 0.9967 - val_loss: 0.2448 - val_accuracy: 0.9264 - val_precision: 0.9264 - val_recall: 0.9264\n",
      "Epoch 37/50\n",
      "62/62 [==============================] - 1s 22ms/step - loss: 0.0091 - accuracy: 0.9969 - precision: 0.9969 - recall: 0.9969 - val_loss: 0.2598 - val_accuracy: 0.9270 - val_precision: 0.9270 - val_recall: 0.9270\n",
      "Epoch 38/50\n",
      "62/62 [==============================] - 1s 22ms/step - loss: 0.0084 - accuracy: 0.9967 - precision: 0.9967 - recall: 0.9967 - val_loss: 0.2568 - val_accuracy: 0.9281 - val_precision: 0.9281 - val_recall: 0.9281\n",
      "Epoch 39/50\n",
      "62/62 [==============================] - 1s 21ms/step - loss: 0.0096 - accuracy: 0.9968 - precision: 0.9968 - recall: 0.9968 - val_loss: 0.2574 - val_accuracy: 0.9272 - val_precision: 0.9272 - val_recall: 0.9272\n",
      "Epoch 40/50\n",
      "62/62 [==============================] - 1s 24ms/step - loss: 0.0096 - accuracy: 0.9964 - precision: 0.9964 - recall: 0.9964 - val_loss: 0.2565 - val_accuracy: 0.9293 - val_precision: 0.9293 - val_recall: 0.9293\n",
      "Epoch 41/50\n",
      "62/62 [==============================] - 2s 24ms/step - loss: 0.0090 - accuracy: 0.9967 - precision: 0.9967 - recall: 0.9967 - val_loss: 0.2623 - val_accuracy: 0.9287 - val_precision: 0.9287 - val_recall: 0.9287\n",
      "Epoch 42/50\n",
      "62/62 [==============================] - 2s 26ms/step - loss: 0.0068 - accuracy: 0.9981 - precision: 0.9981 - recall: 0.9981 - val_loss: 0.2687 - val_accuracy: 0.9275 - val_precision: 0.9275 - val_recall: 0.9275\n",
      "Epoch 43/50\n",
      "62/62 [==============================] - 2s 26ms/step - loss: 0.0081 - accuracy: 0.9972 - precision: 0.9972 - recall: 0.9972 - val_loss: 0.2679 - val_accuracy: 0.9290 - val_precision: 0.9290 - val_recall: 0.9290\n",
      "Epoch 44/50\n",
      "62/62 [==============================] - 2s 27ms/step - loss: 0.0071 - accuracy: 0.9975 - precision: 0.9975 - recall: 0.9975 - val_loss: 0.2752 - val_accuracy: 0.9267 - val_precision: 0.9267 - val_recall: 0.9267\n",
      "Epoch 45/50\n",
      "62/62 [==============================] - 2s 24ms/step - loss: 0.0066 - accuracy: 0.9979 - precision: 0.9979 - recall: 0.9979 - val_loss: 0.2756 - val_accuracy: 0.9275 - val_precision: 0.9275 - val_recall: 0.9275\n",
      "Epoch 46/50\n",
      "62/62 [==============================] - 2s 24ms/step - loss: 0.0067 - accuracy: 0.9975 - precision: 0.9975 - recall: 0.9975 - val_loss: 0.2819 - val_accuracy: 0.9278 - val_precision: 0.9278 - val_recall: 0.9278\n",
      "Epoch 47/50\n",
      "62/62 [==============================] - 1s 23ms/step - loss: 0.0062 - accuracy: 0.9980 - precision: 0.9980 - recall: 0.9980 - val_loss: 0.2799 - val_accuracy: 0.9272 - val_precision: 0.9272 - val_recall: 0.9272\n",
      "Epoch 48/50\n",
      "62/62 [==============================] - 1s 23ms/step - loss: 0.0066 - accuracy: 0.9981 - precision: 0.9981 - recall: 0.9981 - val_loss: 0.2778 - val_accuracy: 0.9261 - val_precision: 0.9261 - val_recall: 0.9261\n",
      "Epoch 49/50\n",
      "62/62 [==============================] - 1s 24ms/step - loss: 0.0057 - accuracy: 0.9984 - precision: 0.9984 - recall: 0.9984 - val_loss: 0.2976 - val_accuracy: 0.9275 - val_precision: 0.9275 - val_recall: 0.9275\n",
      "Epoch 50/50\n",
      "62/62 [==============================] - 2s 25ms/step - loss: 0.0058 - accuracy: 0.9980 - precision: 0.9980 - recall: 0.9980 - val_loss: 0.2859 - val_accuracy: 0.9267 - val_precision: 0.9267 - val_recall: 0.9267\n",
      "107/107 [==============================] - 0s 2ms/step - loss: 0.3066 - accuracy: 0.9308 - precision: 0.9308 - recall: 0.9308\n",
      "Loss: 0.31, Accuracy: 0.93, Precision: 0.93, Recall: 0.93\n"
     ]
    }
   ],
   "source": [
    "from tensorflow.keras.preprocessing.text import Tokenizer\n",
    "from tensorflow.keras.optimizers import Adamax\n",
    "from tensorflow.keras.metrics import Precision, Recall\n",
    "from tensorflow.keras.layers import Dense, ReLU\n",
    "from tensorflow.keras.layers import Embedding, BatchNormalization, Concatenate\n",
    "from tensorflow.keras.layers import Conv1D, GlobalMaxPooling1D, Dropout\n",
    "from tensorflow.keras.models import Sequential, Model\n",
    "from sklearn.preprocessing import LabelEncoder\n",
    "from tensorflow.keras.preprocessing.sequence import pad_sequences\n",
    "from keras.utils import to_categorical\n",
    "\n",
    "\n",
    "\n",
    "encoder = LabelEncoder()\n",
    "cnn_y_train = encoder.fit_transform(y_train)\n",
    "cnn_val_label = encoder.transform(y_val)\n",
    "cnn_test_label = encoder.transform(y_test)\n",
    "\n",
    "\n",
    "tokenizer = Tokenizer(num_words=10000)\n",
    "tokenizer.fit_on_texts(X_train)\n",
    "\n",
    "sequences = tokenizer.texts_to_sequences(X_train)\n",
    "\n",
    "tr_x = pad_sequences(sequences, maxlen=50)\n",
    "tr_y = to_categorical(cnn_y_train)\n",
    "\n",
    "sequences = tokenizer.texts_to_sequences(X_val)\n",
    "val_x = pad_sequences(sequences, maxlen=50)\n",
    "val_y = to_categorical(cnn_val_label)\n",
    "\n",
    "sequences = tokenizer.texts_to_sequences(X_test)\n",
    "ts_x = pad_sequences(sequences, maxlen=50)\n",
    "ts_y = to_categorical(cnn_test_label)\n",
    "\n",
    "\n",
    "max_words = 10000\n",
    "max_len = (50,)\n",
    "embedding_dim = 32\n",
    "\n",
    "# Branch 1\n",
    "branch1 = Sequential()\n",
    "branch1.add(Embedding(max_words, embedding_dim,input_shape=max_len))\n",
    "branch1.add(Conv1D(64, 3, padding='same', activation='relu'))\n",
    "branch1.add(BatchNormalization())\n",
    "branch1.add(ReLU())\n",
    "branch1.add(Dropout(0.5))\n",
    "branch1.add(GlobalMaxPooling1D())\n",
    "\n",
    "\n",
    "# Branch 2\n",
    "branch2 = Sequential()\n",
    "branch2.add(Embedding(max_words, embedding_dim,input_shape=max_len))\n",
    "branch2.add(Conv1D(64, 3, padding='same', activation='relu'))\n",
    "branch2.add(BatchNormalization())\n",
    "branch2.add(ReLU())\n",
    "branch2.add(Dropout(0.5))\n",
    "branch2.add(GlobalMaxPooling1D())\n",
    "\n",
    "\n",
    "concatenated = Concatenate()([branch1.output, branch2.output])\n",
    "\n",
    "hid_layer = Dense(128, activation='relu')(concatenated)\n",
    "dropout = Dropout(0.3)(hid_layer)\n",
    "output_layer = Dense(2, activation='softmax')(dropout)\n",
    "\n",
    "model = Model(inputs=[branch1.inputs, branch2.inputs], outputs=output_layer)\n",
    "\n",
    "\n",
    "model.compile(optimizer='adamax',\n",
    "              loss='categorical_crossentropy',\n",
    "              metrics=['accuracy', Precision(), Recall()])\n",
    "\n",
    "model.summary()\n",
    "\n",
    "\n",
    "batch_size = 256\n",
    "epochs = 50\n",
    "history = model.fit([tr_x, tr_x], tr_y, epochs=epochs, batch_size=batch_size,\n",
    "                    validation_data=([val_x, val_x], val_y))\n",
    "\n",
    "\n",
    "(loss, accuracy, percision, recall) = model.evaluate([ts_x, ts_x], ts_y)\n",
    "print(f'Loss: {round(loss, 2)}, Accuracy: {round(accuracy, 2)}, Precision: {round(percision, 2)}, Recall: {round(recall, 2)}')"
   ]
  },
  {
   "cell_type": "code",
   "execution_count": 34,
   "metadata": {},
   "outputs": [
    {
     "name": "stdout",
     "output_type": "stream",
     "text": [
      "107/107 [==============================] - 0s 1ms/step\n",
      "Confusion matrix, without normalization\n"
     ]
    },
    {
     "data": {
      "text/plain": [
       "<Axes: title={'center': 'CNN Model'}, xlabel='Predicted label', ylabel='True label'>"
      ]
     },
     "execution_count": 34,
     "metadata": {},
     "output_type": "execute_result"
    },
    {
     "data": {
      "image/png": "[encoded data removed]",
      "text/plain": [
       "<Figure size 640x480 with 2 Axes>"
      ]
     },
     "metadata": {},
     "output_type": "display_data"
    }
   ],
   "source": [
    "\n",
    "x=model.predict([ts_x,ts_x])\n",
    "y_predict=np.round(x)\n",
    "y_true=ts_y[:,0]\n",
    "y_predict=y_predict[:,0]\n",
    "\n",
    "utils.plot_confusion_matrix(y_predict,y_true, ['Class 0', 'Class 1'],title='CNN Model')\n"
   ]
  },
  {
   "cell_type": "markdown",
   "metadata": {},
   "source": [
    "# RNN"
   ]
  },
  {
   "cell_type": "code",
   "execution_count": 14,
   "metadata": {},
   "outputs": [],
   "source": [
    "inputs = tf.keras.Input(shape=(None,), dtype='int64')\n",
    "embedded = layers.Embedding(\n",
    "    input_dim=X_train_default.shape[0], output_dim=256, mask_zero=True\n",
    ")(inputs)\n",
    "\n",
    "# Bidirectional LSTM\n",
    "x = layers.Bidirectional(layers.LSTM(32))(embedded)\n",
    "x = layers.Dropout(0.5)(x)\n",
    "\n",
    "# Classification layer\n",
    "outputs = layers.Dense(1, activation='sigmoid')(x)\n",
    "\n",
    "rnn_model = tf.keras.Model(inputs, outputs)"
   ]
  },
  {
   "cell_type": "code",
   "execution_count": 15,
   "metadata": {},
   "outputs": [
    {
     "data": {
      "text/html": [
       "<pre style=\"white-space:pre;overflow-x:auto;line-height:normal;font-family:Menlo,'DejaVu Sans Mono',consolas,'Courier New',monospace\"><span style=\"font-weight: bold\">Model: \"functional_1\"</span>\n",
       "</pre>\n"
      ],
      "text/plain": [
       "\u001b[1mModel: \"functional_1\"\u001b[0m\n"
      ]
     },
     "metadata": {},
     "output_type": "display_data"
    },
    {
     "data": {
      "text/html": [
       "<pre style=\"white-space:pre;overflow-x:auto;line-height:normal;font-family:Menlo,'DejaVu Sans Mono',consolas,'Courier New',monospace\">┏━━━━━━━━━━━━━━━━━━━━━┳━━━━━━━━━━━━━━━━━━━┳━━━━━━━━━━━━┳━━━━━━━━━━━━━━━━━━━┓\n",
       "┃<span style=\"font-weight: bold\"> Layer (type)        </span>┃<span style=\"font-weight: bold\"> Output Shape      </span>┃<span style=\"font-weight: bold\">    Param # </span>┃<span style=\"font-weight: bold\"> Connected to      </span>┃\n",
       "┡━━━━━━━━━━━━━━━━━━━━━╇━━━━━━━━━━━━━━━━━━━╇━━━━━━━━━━━━╇━━━━━━━━━━━━━━━━━━━┩\n",
       "│ input_layer         │ (<span style=\"color: #00d7ff; text-decoration-color: #00d7ff\">None</span>, <span style=\"color: #00d7ff; text-decoration-color: #00d7ff\">None</span>)      │          <span style=\"color: #00af00; text-decoration-color: #00af00\">0</span> │ -                 │\n",
       "│ (<span style=\"color: #0087ff; text-decoration-color: #0087ff\">InputLayer</span>)        │                   │            │                   │\n",
       "├─────────────────────┼───────────────────┼────────────┼───────────────────┤\n",
       "│ embedding           │ (<span style=\"color: #00d7ff; text-decoration-color: #00d7ff\">None</span>, <span style=\"color: #00d7ff; text-decoration-color: #00d7ff\">None</span>, <span style=\"color: #00af00; text-decoration-color: #00af00\">256</span>) │  <span style=\"color: #00af00; text-decoration-color: #00af00\">4,055,552</span> │ input_layer[<span style=\"color: #00af00; text-decoration-color: #00af00\">0</span>][<span style=\"color: #00af00; text-decoration-color: #00af00\">0</span>] │\n",
       "│ (<span style=\"color: #0087ff; text-decoration-color: #0087ff\">Embedding</span>)         │                   │            │                   │\n",
       "├─────────────────────┼───────────────────┼────────────┼───────────────────┤\n",
       "│ not_equal           │ (<span style=\"color: #00d7ff; text-decoration-color: #00d7ff\">None</span>, <span style=\"color: #00d7ff; text-decoration-color: #00d7ff\">None</span>)      │          <span style=\"color: #00af00; text-decoration-color: #00af00\">0</span> │ input_layer[<span style=\"color: #00af00; text-decoration-color: #00af00\">0</span>][<span style=\"color: #00af00; text-decoration-color: #00af00\">0</span>] │\n",
       "│ (<span style=\"color: #0087ff; text-decoration-color: #0087ff\">NotEqual</span>)          │                   │            │                   │\n",
       "├─────────────────────┼───────────────────┼────────────┼───────────────────┤\n",
       "│ bidirectional       │ (<span style=\"color: #00d7ff; text-decoration-color: #00d7ff\">None</span>, <span style=\"color: #00af00; text-decoration-color: #00af00\">64</span>)        │     <span style=\"color: #00af00; text-decoration-color: #00af00\">73,984</span> │ embedding[<span style=\"color: #00af00; text-decoration-color: #00af00\">0</span>][<span style=\"color: #00af00; text-decoration-color: #00af00\">0</span>],  │\n",
       "│ (<span style=\"color: #0087ff; text-decoration-color: #0087ff\">Bidirectional</span>)     │                   │            │ not_equal[<span style=\"color: #00af00; text-decoration-color: #00af00\">0</span>][<span style=\"color: #00af00; text-decoration-color: #00af00\">0</span>]   │\n",
       "├─────────────────────┼───────────────────┼────────────┼───────────────────┤\n",
       "│ dropout (<span style=\"color: #0087ff; text-decoration-color: #0087ff\">Dropout</span>)   │ (<span style=\"color: #00d7ff; text-decoration-color: #00d7ff\">None</span>, <span style=\"color: #00af00; text-decoration-color: #00af00\">64</span>)        │          <span style=\"color: #00af00; text-decoration-color: #00af00\">0</span> │ bidirectional[<span style=\"color: #00af00; text-decoration-color: #00af00\">0</span>]… │\n",
       "├─────────────────────┼───────────────────┼────────────┼───────────────────┤\n",
       "│ dense (<span style=\"color: #0087ff; text-decoration-color: #0087ff\">Dense</span>)       │ (<span style=\"color: #00d7ff; text-decoration-color: #00d7ff\">None</span>, <span style=\"color: #00af00; text-decoration-color: #00af00\">1</span>)         │         <span style=\"color: #00af00; text-decoration-color: #00af00\">65</span> │ dropout[<span style=\"color: #00af00; text-decoration-color: #00af00\">0</span>][<span style=\"color: #00af00; text-decoration-color: #00af00\">0</span>]     │\n",
       "└─────────────────────┴───────────────────┴────────────┴───────────────────┘\n",
       "</pre>\n"
      ],
      "text/plain": [
       "┏━━━━━━━━━━━━━━━━━━━━━┳━━━━━━━━━━━━━━━━━━━┳━━━━━━━━━━━━┳━━━━━━━━━━━━━━━━━━━┓\n",
       "┃\u001b[1m \u001b[0m\u001b[1mLayer (type)       \u001b[0m\u001b[1m \u001b[0m┃\u001b[1m \u001b[0m\u001b[1mOutput Shape     \u001b[0m\u001b[1m \u001b[0m┃\u001b[1m \u001b[0m\u001b[1m   Param #\u001b[0m\u001b[1m \u001b[0m┃\u001b[1m \u001b[0m\u001b[1mConnected to     \u001b[0m\u001b[1m \u001b[0m┃\n",
       "┡━━━━━━━━━━━━━━━━━━━━━╇━━━━━━━━━━━━━━━━━━━╇━━━━━━━━━━━━╇━━━━━━━━━━━━━━━━━━━┩\n",
       "│ input_layer         │ (\u001b[38;5;45mNone\u001b[0m, \u001b[38;5;45mNone\u001b[0m)      │          \u001b[38;5;34m0\u001b[0m │ -                 │\n",
       "│ (\u001b[38;5;33mInputLayer\u001b[0m)        │                   │            │                   │\n",
       "├─────────────────────┼───────────────────┼────────────┼───────────────────┤\n",
       "│ embedding           │ (\u001b[38;5;45mNone\u001b[0m, \u001b[38;5;45mNone\u001b[0m, \u001b[38;5;34m256\u001b[0m) │  \u001b[38;5;34m4,055,552\u001b[0m │ input_layer[\u001b[38;5;34m0\u001b[0m][\u001b[38;5;34m0\u001b[0m] │\n",
       "│ (\u001b[38;5;33mEmbedding\u001b[0m)         │                   │            │                   │\n",
       "├─────────────────────┼───────────────────┼────────────┼───────────────────┤\n",
       "│ not_equal           │ (\u001b[38;5;45mNone\u001b[0m, \u001b[38;5;45mNone\u001b[0m)      │          \u001b[38;5;34m0\u001b[0m │ input_layer[\u001b[38;5;34m0\u001b[0m][\u001b[38;5;34m0\u001b[0m] │\n",
       "│ (\u001b[38;5;33mNotEqual\u001b[0m)          │                   │            │                   │\n",
       "├─────────────────────┼───────────────────┼────────────┼───────────────────┤\n",
       "│ bidirectional       │ (\u001b[38;5;45mNone\u001b[0m, \u001b[38;5;34m64\u001b[0m)        │     \u001b[38;5;34m73,984\u001b[0m │ embedding[\u001b[38;5;34m0\u001b[0m][\u001b[38;5;34m0\u001b[0m],  │\n",
       "│ (\u001b[38;5;33mBidirectional\u001b[0m)     │                   │            │ not_equal[\u001b[38;5;34m0\u001b[0m][\u001b[38;5;34m0\u001b[0m]   │\n",
       "├─────────────────────┼───────────────────┼────────────┼───────────────────┤\n",
       "│ dropout (\u001b[38;5;33mDropout\u001b[0m)   │ (\u001b[38;5;45mNone\u001b[0m, \u001b[38;5;34m64\u001b[0m)        │          \u001b[38;5;34m0\u001b[0m │ bidirectional[\u001b[38;5;34m0\u001b[0m]… │\n",
       "├─────────────────────┼───────────────────┼────────────┼───────────────────┤\n",
       "│ dense (\u001b[38;5;33mDense\u001b[0m)       │ (\u001b[38;5;45mNone\u001b[0m, \u001b[38;5;34m1\u001b[0m)         │         \u001b[38;5;34m65\u001b[0m │ dropout[\u001b[38;5;34m0\u001b[0m][\u001b[38;5;34m0\u001b[0m]     │\n",
       "└─────────────────────┴───────────────────┴────────────┴───────────────────┘\n"
      ]
     },
     "metadata": {},
     "output_type": "display_data"
    },
    {
     "data": {
      "text/html": [
       "<pre style=\"white-space:pre;overflow-x:auto;line-height:normal;font-family:Menlo,'DejaVu Sans Mono',consolas,'Courier New',monospace\"><span style=\"font-weight: bold\"> Total params: </span><span style=\"color: #00af00; text-decoration-color: #00af00\">4,129,601</span> (15.75 MB)\n",
       "</pre>\n"
      ],
      "text/plain": [
       "\u001b[1m Total params: \u001b[0m\u001b[38;5;34m4,129,601\u001b[0m (15.75 MB)\n"
      ]
     },
     "metadata": {},
     "output_type": "display_data"
    },
    {
     "data": {
      "text/html": [
       "<pre style=\"white-space:pre;overflow-x:auto;line-height:normal;font-family:Menlo,'DejaVu Sans Mono',consolas,'Courier New',monospace\"><span style=\"font-weight: bold\"> Trainable params: </span><span style=\"color: #00af00; text-decoration-color: #00af00\">4,129,601</span> (15.75 MB)\n",
       "</pre>\n"
      ],
      "text/plain": [
       "\u001b[1m Trainable params: \u001b[0m\u001b[38;5;34m4,129,601\u001b[0m (15.75 MB)\n"
      ]
     },
     "metadata": {},
     "output_type": "display_data"
    },
    {
     "data": {
      "text/html": [
       "<pre style=\"white-space:pre;overflow-x:auto;line-height:normal;font-family:Menlo,'DejaVu Sans Mono',consolas,'Courier New',monospace\"><span style=\"font-weight: bold\"> Non-trainable params: </span><span style=\"color: #00af00; text-decoration-color: #00af00\">0</span> (0.00 B)\n",
       "</pre>\n"
      ],
      "text/plain": [
       "\u001b[1m Non-trainable params: \u001b[0m\u001b[38;5;34m0\u001b[0m (0.00 B)\n"
      ]
     },
     "metadata": {},
     "output_type": "display_data"
    }
   ],
   "source": [
    "rnn_model.compile(optimizer='rmsprop', loss='binary_crossentropy', metrics=['accuracy'])\n",
    "rnn_model.summary()"
   ]
  },
  {
   "cell_type": "code",
   "execution_count": 17,
   "metadata": {},
   "outputs": [],
   "source": [
    "rnn_early_stop_callback = tf.keras.callbacks.EarlyStopping(\n",
    "    monitor='val_loss', patience=PATIENCE\n",
    ")\n",
    "rnn_checkpoint_callback = tf.keras.callbacks.ModelCheckpoint(\n",
    "    'rnn.keras', monitor='val_loss', verbose=1, save_best_only=True, mode='min'\n",
    ")"
   ]
  },
  {
   "cell_type": "code",
   "execution_count": 18,
   "metadata": {},
   "outputs": [
    {
     "name": "stdout",
     "output_type": "stream",
     "text": [
      "Epoch 1/50\n"
     ]
    },
    {
     "name": "stderr",
     "output_type": "stream",
     "text": [
      "2024-04-03 22:47:50.217270: E tensorflow/core/util/util.cc:131] oneDNN supports DT_BOOL only on platforms with AVX-512. Falling back to the default Eigen-based implementation if present.\n"
     ]
    },
    {
     "name": "stdout",
     "output_type": "stream",
     "text": [
      "\u001b[1m496/496\u001b[0m \u001b[32m━━━━━━━━━━━━━━━━━━━━\u001b[0m\u001b[37m\u001b[0m \u001b[1m0s\u001b[0m 97ms/step - accuracy: 0.6853 - loss: 0.5671\n",
      "Epoch 1: val_loss improved from inf to 0.21562, saving model to rnn.keras\n",
      "\u001b[1m496/496\u001b[0m \u001b[32m━━━━━━━━━━━━━━━━━━━━\u001b[0m\u001b[37m\u001b[0m \u001b[1m56s\u001b[0m 104ms/step - accuracy: 0.6855 - loss: 0.5668 - val_accuracy: 0.9128 - val_loss: 0.2156\n",
      "Epoch 2/50\n",
      "\u001b[1m496/496\u001b[0m \u001b[32m━━━━━━━━━━━━━━━━━━━━\u001b[0m\u001b[37m\u001b[0m \u001b[1m0s\u001b[0m 95ms/step - accuracy: 0.9405 - loss: 0.1531\n",
      "Epoch 2: val_loss improved from 0.21562 to 0.17704, saving model to rnn.keras\n",
      "\u001b[1m496/496\u001b[0m \u001b[32m━━━━━━━━━━━━━━━━━━━━\u001b[0m\u001b[37m\u001b[0m \u001b[1m50s\u001b[0m 101ms/step - accuracy: 0.9405 - loss: 0.1531 - val_accuracy: 0.9261 - val_loss: 0.1770\n",
      "Epoch 3/50\n",
      "\u001b[1m496/496\u001b[0m \u001b[32m━━━━━━━━━━━━━━━━━━━━\u001b[0m\u001b[37m\u001b[0m \u001b[1m0s\u001b[0m 95ms/step - accuracy: 0.9621 - loss: 0.1003\n",
      "Epoch 3: val_loss improved from 0.17704 to 0.16693, saving model to rnn.keras\n",
      "\u001b[1m496/496\u001b[0m \u001b[32m━━━━━━━━━━━━━━━━━━━━\u001b[0m\u001b[37m\u001b[0m \u001b[1m50s\u001b[0m 101ms/step - accuracy: 0.9621 - loss: 0.1003 - val_accuracy: 0.9361 - val_loss: 0.1669\n",
      "Epoch 4/50\n",
      "\u001b[1m496/496\u001b[0m \u001b[32m━━━━━━━━━━━━━━━━━━━━\u001b[0m\u001b[37m\u001b[0m \u001b[1m0s\u001b[0m 95ms/step - accuracy: 0.9765 - loss: 0.0705\n",
      "Epoch 4: val_loss did not improve from 0.16693\n",
      "\u001b[1m496/496\u001b[0m \u001b[32m━━━━━━━━━━━━━━━━━━━━\u001b[0m\u001b[37m\u001b[0m \u001b[1m50s\u001b[0m 100ms/step - accuracy: 0.9765 - loss: 0.0705 - val_accuracy: 0.9337 - val_loss: 0.1960\n",
      "Epoch 5/50\n",
      "\u001b[1m496/496\u001b[0m \u001b[32m━━━━━━━━━━━━━━━━━━━━\u001b[0m\u001b[37m\u001b[0m \u001b[1m0s\u001b[0m 96ms/step - accuracy: 0.9859 - loss: 0.0469\n",
      "Epoch 5: val_loss did not improve from 0.16693\n",
      "\u001b[1m496/496\u001b[0m \u001b[32m━━━━━━━━━━━━━━━━━━━━\u001b[0m\u001b[37m\u001b[0m \u001b[1m50s\u001b[0m 101ms/step - accuracy: 0.9859 - loss: 0.0469 - val_accuracy: 0.9325 - val_loss: 0.1971\n",
      "Epoch 6/50\n",
      "\u001b[1m496/496\u001b[0m \u001b[32m━━━━━━━━━━━━━━━━━━━━\u001b[0m\u001b[37m\u001b[0m \u001b[1m0s\u001b[0m 103ms/step - accuracy: 0.9900 - loss: 0.0319\n",
      "Epoch 6: val_loss did not improve from 0.16693\n",
      "\u001b[1m496/496\u001b[0m \u001b[32m━━━━━━━━━━━━━━━━━━━━\u001b[0m\u001b[37m\u001b[0m \u001b[1m54s\u001b[0m 108ms/step - accuracy: 0.9900 - loss: 0.0319 - val_accuracy: 0.9290 - val_loss: 0.2262\n"
     ]
    }
   ],
   "source": [
    "rnn_history = rnn_model.fit(\n",
    "    X_train_default, y_train, validation_data=(X_val_default, y_val), \n",
    "    batch_size=BATCH_SIZE, epochs=EPOCHS, \n",
    "    callbacks=[rnn_early_stop_callback, rnn_checkpoint_callback]\n",
    ")"
   ]
  },
  {
   "cell_type": "code",
   "execution_count": 27,
   "metadata": {},
   "outputs": [
    {
     "name": "stdout",
     "output_type": "stream",
     "text": [
      "\u001b[1m107/107\u001b[0m \u001b[32m━━━━━━━━━━━━━━━━━━━━\u001b[0m\u001b[37m\u001b[0m \u001b[1m3s\u001b[0m 24ms/step\n"
     ]
    }
   ],
   "source": [
    "rnn_pred = rnn_model.predict(X_test_default).round()"
   ]
  },
  {
   "cell_type": "code",
   "execution_count": 32,
   "metadata": {},
   "outputs": [
    {
     "name": "stdout",
     "output_type": "stream",
     "text": [
      "Confusion matrix, without normalization\n"
     ]
    },
    {
     "data": {
      "image/png": "[encoded data removed]",
      "text/plain": [
       "<Figure size 640x480 with 2 Axes>"
      ]
     },
     "metadata": {},
     "output_type": "display_data"
    }
   ],
   "source": [
    "rnn_ax = utils.plot_confusion_matrix(y_true=y_test, y_pred=rnn_pred, classes=['0', '1'], title='RNN Confusion Matrix')\n",
    "plt.show()"
   ]
  },
  {
   "cell_type": "code",
   "execution_count": 35,
   "metadata": {},
   "outputs": [
    {
     "name": "stdout",
     "output_type": "stream",
     "text": [
      "              precision    recall  f1-score   support\n",
      "\n",
      "         0.0       0.91      0.95      0.93      1511\n",
      "         1.0       0.95      0.92      0.94      1884\n",
      "\n",
      "    accuracy                           0.93      3395\n",
      "   macro avg       0.93      0.93      0.93      3395\n",
      "weighted avg       0.93      0.93      0.93      3395\n",
      "\n"
     ]
    }
   ],
   "source": [
    "print(classification_report(rnn_pred, y_test))"
   ]
  },
  {
   "cell_type": "markdown",
   "metadata": {},
   "source": [
    "# LSTM"
   ]
  },
  {
   "cell_type": "markdown",
   "metadata": {},
   "source": [
    "# One-Off Tests"
   ]
  },
  {
   "cell_type": "code",
   "execution_count": 58,
   "metadata": {},
   "outputs": [],
   "source": [
    "from nltk.stem import WordNetLemmatizer\n",
    "\n",
    "def predict_stress(text, model, vectorizer):\n",
    "    output = 'Stress NOT detected'\n",
    "    \n",
    "    processed = utils.process_text(text, md.STOPWORDS, WordNetLemmatizer())\n",
    "    embedding = vectorizer.transform([processed])\n",
    "    result = model.predict(embedding)\n",
    "    if result[0] == 1:\n",
    "        output = 'STRESS detected'\n",
    "    \n",
    "    return output"
   ]
  },
  {
   "cell_type": "code",
   "execution_count": 54,
   "metadata": {},
   "outputs": [],
   "source": [
    "test_text = 'Hi, I need help!'"
   ]
  },
  {
   "cell_type": "code",
   "execution_count": 61,
   "metadata": {},
   "outputs": [],
   "source": [
    "models = [logreg, bayes, rf]\n",
    "model_names = ['Logistic Regression', 'Naive Bayes', 'Random Forest']"
   ]
  },
  {
   "cell_type": "code",
   "execution_count": 63,
   "metadata": {},
   "outputs": [
    {
     "name": "stdout",
     "output_type": "stream",
     "text": [
      "Logistic Regression: Stress NOT detected\n",
      "Naive Bayes: Stress NOT detected\n",
      "Random Forest: STRESS detected\n"
     ]
    }
   ],
   "source": [
    "for m, name in zip(models, model_names):\n",
    "    print(f'{name}: {predict_stress(test_text, m, td_vectorizer)}')"
   ]
  }
 ],
 "metadata": {
  "kernelspec": {
   "display_name": "ece5831-py3.10",
   "language": "python",
   "name": "python3"
  },
  "language_info": {
   "codemirror_mode": {
    "name": "ipython",
    "version": 3
   },
   "file_extension": ".py",
   "mimetype": "text/x-python",
   "name": "python",
   "nbconvert_exporter": "python",
   "pygments_lexer": "ipython3",
   "version": "3.10.13"
  }
 },
 "nbformat": 4,
 "nbformat_minor": 2
}
